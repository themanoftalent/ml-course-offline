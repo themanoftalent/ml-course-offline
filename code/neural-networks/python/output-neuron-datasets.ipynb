{
 "cells": [
  {
   "cell_type": "markdown",
   "metadata": {},
   "source": [
    "This creates the underlying scatterplot data for the output neurons"
   ]
  },
  {
   "cell_type": "code",
   "execution_count": 5,
   "metadata": {},
   "outputs": [],
   "source": [
    "import matplotlib.pyplot as plt\n",
    "import numpy as np\n",
    "import pandas as pd\n",
    "from sklearn.linear_model import LinearRegression, LogisticRegression\n",
    "from sklearn.neural_network import MLPClassifier"
   ]
  },
  {
   "cell_type": "code",
   "execution_count": 6,
   "metadata": {},
   "outputs": [],
   "source": [
    "# num data points\n",
    "n = 20\n",
    "\n",
    "def plot_decision_boundary(clf):\n",
    "    # Generate a mesh grid of points to plot the decision boundary for clf\n",
    "    h = 0.02\n",
    "    x_min, x_max = dataset['x'].min() - 1, dataset['x'].max() + 1\n",
    "    y_min, y_max = dataset['y'].min() - 1, dataset['y'].max() + 1\n",
    "    xx, yy = np.meshgrid(np.arange(x_min, x_max, h), np.arange(y_min, y_max, h))\n",
    "    Z = clf.predict(np.c_[xx.ravel(), yy.ravel()])\n",
    "    Z = Z.reshape(xx.shape)\n",
    "\n",
    "    # Plot the dataset and the decision boundary\n",
    "    plt.contourf(xx, yy, Z, cmap=plt.cm.RdBu, alpha=0.3)\n",
    "    plt.scatter(dataset['x'], dataset['y'], s=85, c=dataset['label'], cmap=plt.cm.RdBu, edgecolor='white')\n",
    "    plt.title('Perceptron')\n",
    "    plt.xlabel('X')\n",
    "    plt.ylabel('y')\n",
    "    plt.show()"
   ]
  },
  {
   "cell_type": "code",
   "execution_count": 7,
   "metadata": {},
   "outputs": [],
   "source": [
    "# Create dataset that is mostly linearly separable between two classes\n",
    "np.random.seed(42)\n",
    "x1 = np.random.normal(loc=2, scale=3, size=(10, 2))\n",
    "x2 = np.random.normal(loc=5, scale=1.5, size=(10, 2))\n",
    "x3 = np.random.normal(loc=2, scale=1.5, size=(10, 2))\n",
    "x4 = np.random.normal(loc=9, scale=1.5, size=(10, 2))\n",
    "X = np.concatenate([x1, x2, x3, x4])\n",
    "y = np.concatenate([np.zeros(20), np.ones(20)])\n",
    "dataset = {'x': X[:, 0], 'y': X[:, 1], 'label': y}"
   ]
  },
  {
   "cell_type": "markdown",
   "metadata": {},
   "source": [
    "## Linear Regression"
   ]
  },
  {
   "cell_type": "code",
   "execution_count": 30,
   "metadata": {},
   "outputs": [],
   "source": [
    "df = pd.DataFrame(dataset)\n",
    "df.to_json('scatterData.json', orient='records')"
   ]
  },
  {
   "cell_type": "code",
   "execution_count": 29,
   "metadata": {},
   "outputs": [
    {
     "data": {
      "text/html": [
       "<div>\n",
       "<style scoped>\n",
       "    .dataframe tbody tr th:only-of-type {\n",
       "        vertical-align: middle;\n",
       "    }\n",
       "\n",
       "    .dataframe tbody tr th {\n",
       "        vertical-align: top;\n",
       "    }\n",
       "\n",
       "    .dataframe thead th {\n",
       "        text-align: right;\n",
       "    }\n",
       "</style>\n",
       "<table border=\"1\" class=\"dataframe\">\n",
       "  <thead>\n",
       "    <tr style=\"text-align: right;\">\n",
       "      <th></th>\n",
       "      <th>x</th>\n",
       "      <th>y</th>\n",
       "      <th>label</th>\n",
       "    </tr>\n",
       "  </thead>\n",
       "  <tbody>\n",
       "    <tr>\n",
       "      <th>0</th>\n",
       "      <td>3.490142</td>\n",
       "      <td>1.585207</td>\n",
       "      <td>0.0</td>\n",
       "    </tr>\n",
       "    <tr>\n",
       "      <th>1</th>\n",
       "      <td>3.943066</td>\n",
       "      <td>6.569090</td>\n",
       "      <td>0.0</td>\n",
       "    </tr>\n",
       "    <tr>\n",
       "      <th>2</th>\n",
       "      <td>1.297540</td>\n",
       "      <td>1.297589</td>\n",
       "      <td>0.0</td>\n",
       "    </tr>\n",
       "    <tr>\n",
       "      <th>3</th>\n",
       "      <td>6.737638</td>\n",
       "      <td>4.302304</td>\n",
       "      <td>0.0</td>\n",
       "    </tr>\n",
       "    <tr>\n",
       "      <th>4</th>\n",
       "      <td>0.591577</td>\n",
       "      <td>3.627680</td>\n",
       "      <td>0.0</td>\n",
       "    </tr>\n",
       "    <tr>\n",
       "      <th>5</th>\n",
       "      <td>0.609747</td>\n",
       "      <td>0.602811</td>\n",
       "      <td>0.0</td>\n",
       "    </tr>\n",
       "    <tr>\n",
       "      <th>6</th>\n",
       "      <td>2.725887</td>\n",
       "      <td>-3.739841</td>\n",
       "      <td>0.0</td>\n",
       "    </tr>\n",
       "    <tr>\n",
       "      <th>7</th>\n",
       "      <td>-3.174753</td>\n",
       "      <td>0.313137</td>\n",
       "      <td>0.0</td>\n",
       "    </tr>\n",
       "    <tr>\n",
       "      <th>8</th>\n",
       "      <td>-1.038493</td>\n",
       "      <td>2.942742</td>\n",
       "      <td>0.0</td>\n",
       "    </tr>\n",
       "    <tr>\n",
       "      <th>9</th>\n",
       "      <td>-0.724072</td>\n",
       "      <td>-2.236911</td>\n",
       "      <td>0.0</td>\n",
       "    </tr>\n",
       "    <tr>\n",
       "      <th>10</th>\n",
       "      <td>7.198473</td>\n",
       "      <td>4.661336</td>\n",
       "      <td>0.0</td>\n",
       "    </tr>\n",
       "    <tr>\n",
       "      <th>11</th>\n",
       "      <td>5.101292</td>\n",
       "      <td>2.862878</td>\n",
       "      <td>0.0</td>\n",
       "    </tr>\n",
       "    <tr>\n",
       "      <th>12</th>\n",
       "      <td>4.183426</td>\n",
       "      <td>5.166384</td>\n",
       "      <td>0.0</td>\n",
       "    </tr>\n",
       "    <tr>\n",
       "      <th>13</th>\n",
       "      <td>3.273510</td>\n",
       "      <td>5.563547</td>\n",
       "      <td>0.0</td>\n",
       "    </tr>\n",
       "    <tr>\n",
       "      <th>14</th>\n",
       "      <td>4.099042</td>\n",
       "      <td>4.562459</td>\n",
       "      <td>0.0</td>\n",
       "    </tr>\n",
       "    <tr>\n",
       "      <th>15</th>\n",
       "      <td>4.097440</td>\n",
       "      <td>7.778417</td>\n",
       "      <td>0.0</td>\n",
       "    </tr>\n",
       "    <tr>\n",
       "      <th>16</th>\n",
       "      <td>4.979754</td>\n",
       "      <td>3.413434</td>\n",
       "      <td>0.0</td>\n",
       "    </tr>\n",
       "    <tr>\n",
       "      <th>17</th>\n",
       "      <td>6.233817</td>\n",
       "      <td>3.168735</td>\n",
       "      <td>0.0</td>\n",
       "    </tr>\n",
       "    <tr>\n",
       "      <th>18</th>\n",
       "      <td>5.313295</td>\n",
       "      <td>2.060495</td>\n",
       "      <td>0.0</td>\n",
       "    </tr>\n",
       "    <tr>\n",
       "      <th>19</th>\n",
       "      <td>3.007721</td>\n",
       "      <td>5.295292</td>\n",
       "      <td>0.0</td>\n",
       "    </tr>\n",
       "    <tr>\n",
       "      <th>20</th>\n",
       "      <td>3.107700</td>\n",
       "      <td>2.257052</td>\n",
       "      <td>1.0</td>\n",
       "    </tr>\n",
       "    <tr>\n",
       "      <th>21</th>\n",
       "      <td>1.826528</td>\n",
       "      <td>1.548344</td>\n",
       "      <td>1.0</td>\n",
       "    </tr>\n",
       "    <tr>\n",
       "      <th>22</th>\n",
       "      <td>-0.217783</td>\n",
       "      <td>0.920234</td>\n",
       "      <td>1.0</td>\n",
       "    </tr>\n",
       "    <tr>\n",
       "      <th>23</th>\n",
       "      <td>1.309042</td>\n",
       "      <td>3.585683</td>\n",
       "      <td>1.0</td>\n",
       "    </tr>\n",
       "    <tr>\n",
       "      <th>24</th>\n",
       "      <td>2.515427</td>\n",
       "      <td>-0.644560</td>\n",
       "      <td>1.0</td>\n",
       "    </tr>\n",
       "    <tr>\n",
       "      <th>25</th>\n",
       "      <td>2.486126</td>\n",
       "      <td>1.422377</td>\n",
       "      <td>1.0</td>\n",
       "    </tr>\n",
       "    <tr>\n",
       "      <th>26</th>\n",
       "      <td>0.984617</td>\n",
       "      <td>2.917514</td>\n",
       "      <td>1.0</td>\n",
       "    </tr>\n",
       "    <tr>\n",
       "      <th>27</th>\n",
       "      <td>3.546499</td>\n",
       "      <td>3.396920</td>\n",
       "      <td>1.0</td>\n",
       "    </tr>\n",
       "    <tr>\n",
       "      <th>28</th>\n",
       "      <td>0.741174</td>\n",
       "      <td>1.536181</td>\n",
       "      <td>1.0</td>\n",
       "    </tr>\n",
       "    <tr>\n",
       "      <th>29</th>\n",
       "      <td>2.496895</td>\n",
       "      <td>3.463318</td>\n",
       "      <td>1.0</td>\n",
       "    </tr>\n",
       "    <tr>\n",
       "      <th>30</th>\n",
       "      <td>8.281239</td>\n",
       "      <td>8.721512</td>\n",
       "      <td>1.0</td>\n",
       "    </tr>\n",
       "    <tr>\n",
       "      <th>31</th>\n",
       "      <td>7.340498</td>\n",
       "      <td>7.205690</td>\n",
       "      <td>1.0</td>\n",
       "    </tr>\n",
       "    <tr>\n",
       "      <th>32</th>\n",
       "      <td>10.218789</td>\n",
       "      <td>11.034360</td>\n",
       "      <td>1.0</td>\n",
       "    </tr>\n",
       "    <tr>\n",
       "      <th>33</th>\n",
       "      <td>8.891985</td>\n",
       "      <td>10.505299</td>\n",
       "      <td>1.0</td>\n",
       "    </tr>\n",
       "    <tr>\n",
       "      <th>34</th>\n",
       "      <td>9.542454</td>\n",
       "      <td>8.032320</td>\n",
       "      <td>1.0</td>\n",
       "    </tr>\n",
       "    <tr>\n",
       "      <th>35</th>\n",
       "      <td>9.542093</td>\n",
       "      <td>11.307055</td>\n",
       "      <td>1.0</td>\n",
       "    </tr>\n",
       "    <tr>\n",
       "      <th>36</th>\n",
       "      <td>8.946261</td>\n",
       "      <td>11.346965</td>\n",
       "      <td>1.0</td>\n",
       "    </tr>\n",
       "    <tr>\n",
       "      <th>37</th>\n",
       "      <td>5.070382</td>\n",
       "      <td>10.232854</td>\n",
       "      <td>1.0</td>\n",
       "    </tr>\n",
       "    <tr>\n",
       "      <th>38</th>\n",
       "      <td>9.130571</td>\n",
       "      <td>8.551489</td>\n",
       "      <td>1.0</td>\n",
       "    </tr>\n",
       "    <tr>\n",
       "      <th>39</th>\n",
       "      <td>9.137641</td>\n",
       "      <td>6.018647</td>\n",
       "      <td>1.0</td>\n",
       "    </tr>\n",
       "  </tbody>\n",
       "</table>\n",
       "</div>"
      ],
      "text/plain": [
       "            x          y  label\n",
       "0    3.490142   1.585207    0.0\n",
       "1    3.943066   6.569090    0.0\n",
       "2    1.297540   1.297589    0.0\n",
       "3    6.737638   4.302304    0.0\n",
       "4    0.591577   3.627680    0.0\n",
       "5    0.609747   0.602811    0.0\n",
       "6    2.725887  -3.739841    0.0\n",
       "7   -3.174753   0.313137    0.0\n",
       "8   -1.038493   2.942742    0.0\n",
       "9   -0.724072  -2.236911    0.0\n",
       "10   7.198473   4.661336    0.0\n",
       "11   5.101292   2.862878    0.0\n",
       "12   4.183426   5.166384    0.0\n",
       "13   3.273510   5.563547    0.0\n",
       "14   4.099042   4.562459    0.0\n",
       "15   4.097440   7.778417    0.0\n",
       "16   4.979754   3.413434    0.0\n",
       "17   6.233817   3.168735    0.0\n",
       "18   5.313295   2.060495    0.0\n",
       "19   3.007721   5.295292    0.0\n",
       "20   3.107700   2.257052    1.0\n",
       "21   1.826528   1.548344    1.0\n",
       "22  -0.217783   0.920234    1.0\n",
       "23   1.309042   3.585683    1.0\n",
       "24   2.515427  -0.644560    1.0\n",
       "25   2.486126   1.422377    1.0\n",
       "26   0.984617   2.917514    1.0\n",
       "27   3.546499   3.396920    1.0\n",
       "28   0.741174   1.536181    1.0\n",
       "29   2.496895   3.463318    1.0\n",
       "30   8.281239   8.721512    1.0\n",
       "31   7.340498   7.205690    1.0\n",
       "32  10.218789  11.034360    1.0\n",
       "33   8.891985  10.505299    1.0\n",
       "34   9.542454   8.032320    1.0\n",
       "35   9.542093  11.307055    1.0\n",
       "36   8.946261  11.346965    1.0\n",
       "37   5.070382  10.232854    1.0\n",
       "38   9.130571   8.551489    1.0\n",
       "39   9.137641   6.018647    1.0"
      ]
     },
     "execution_count": 29,
     "metadata": {},
     "output_type": "execute_result"
    }
   ],
   "source": [
    "df"
   ]
  },
  {
   "cell_type": "code",
   "execution_count": 9,
   "metadata": {},
   "outputs": [
    {
     "data": {
      "image/png": "[encoded data removed]",
      "text/plain": [
       "<Figure size 432x288 with 1 Axes>"
      ]
     },
     "metadata": {
      "needs_background": "light"
     },
     "output_type": "display_data"
    }
   ],
   "source": [
    "# Train a linear regression model on the dataset\n",
    "reg = LinearRegression().fit(dataset['x'].reshape(-1,1), dataset['y'])\n",
    "\n",
    "# Generate predictions using the trained model\n",
    "y_pred = reg.predict(dataset['x'].reshape(-1,1))\n",
    "\n",
    "# Plot the dataset and the prediction line\n",
    "plt.scatter(dataset['x'], dataset['y'], color='blue')\n",
    "plt.plot(dataset['x'], y_pred, color='red')\n",
    "plt.title('Linear Regression')\n",
    "plt.xlabel('X')\n",
    "plt.ylabel('y')\n",
    "plt.show()"
   ]
  },
  {
   "cell_type": "markdown",
   "metadata": {},
   "source": [
    "## Logistic Regression"
   ]
  },
  {
   "cell_type": "code",
   "execution_count": 10,
   "metadata": {},
   "outputs": [
    {
     "data": {
      "image/png": "[encoded data removed]",
      "text/plain": [
       "<Figure size 432x288 with 1 Axes>"
      ]
     },
     "metadata": {
      "needs_background": "light"
     },
     "output_type": "display_data"
    }
   ],
   "source": [
    "# Train a logistic regression model on the dataset\n",
    "clf = LogisticRegression().fit(X, y)\n",
    "\n",
    "plot_decision_boundary(clf)"
   ]
  },
  {
   "cell_type": "code",
   "execution_count": 11,
   "metadata": {},
   "outputs": [
    {
     "data": {
      "text/plain": [
       "array([-1.03096821])"
      ]
     },
     "execution_count": 11,
     "metadata": {},
     "output_type": "execute_result"
    }
   ],
   "source": [
    "clf.intercept_"
   ]
  },
  {
   "cell_type": "code",
   "execution_count": 12,
   "metadata": {},
   "outputs": [
    {
     "name": "stdout",
     "output_type": "stream",
     "text": [
      "[-1.03096821] 0.06139381579344726 0.18226813605883252\n"
     ]
    }
   ],
   "source": [
    "w0 = clf.intercept_\n",
    "w1, w2 = clf.coef_.squeeze()\n",
    "print(w0, w1, w2)"
   ]
  },
  {
   "cell_type": "code",
   "execution_count": 27,
   "metadata": {},
   "outputs": [
    {
     "name": "stdout",
     "output_type": "stream",
     "text": [
      "1\n"
     ]
    }
   ],
   "source": [
    "from sklearn.linear_model import Perceptron\n",
    "\n",
    "import numpy as np\n",
    "from sklearn.linear_model import LogisticRegression\n",
    "\n",
    "# create a toy dataset\n",
    "X = np.array([[1, 2], [3, 4], [5, 6]])\n",
    "y = np.array([0, 1, 1])\n",
    "\n",
    "# fit the logistic regression model\n",
    "clf = Perceptron().fit(X, y)\n",
    "\n",
    "# get the weights from the clf object\n",
    "w0 = clf.intercept_\n",
    "w1, w2 = clf.coef_.squeeze()\n",
    "\n",
    "# predict the label for a new point [x, y]\n",
    "x, y = 7, 8\n",
    "z = w0 + w1*x + w2*y\n",
    "p = 1 / (1 + np.exp(-z))\n",
    "predicted_label = 1 if p >= 0.5 else 0\n",
    "\n",
    "print(predicted_label) # output: 1"
   ]
  },
  {
   "cell_type": "code",
   "execution_count": 14,
   "metadata": {},
   "outputs": [
    {
     "name": "stdout",
     "output_type": "stream",
     "text": [
      "[-1.03096821] 0.06139381579344726 0.18226813605883252\n"
     ]
    }
   ],
   "source": [
    "print(w0, w1, w2)"
   ]
  },
  {
   "cell_type": "markdown",
   "metadata": {},
   "source": [
    "## Perceptron"
   ]
  },
  {
   "cell_type": "code",
   "execution_count": 21,
   "metadata": {},
   "outputs": [
    {
     "name": "stdout",
     "output_type": "stream",
     "text": [
      "weights [[6. 0.]]\n",
      "bias [-6.]\n"
     ]
    },
    {
     "data": {
      "image/png": "[encoded data removed]",
      "text/plain": [
       "<Figure size 432x288 with 1 Axes>"
      ]
     },
     "metadata": {
      "needs_background": "light"
     },
     "output_type": "display_data"
    }
   ],
   "source": [
    "from sklearn.linear_model import Perceptron\n",
    "\n",
    "# Train a perceptron model on the dataset\n",
    "clf = Perceptron().fit(X, y)\n",
    "\n",
    "weights = clf.coef_\n",
    "bias = clf.intercept_\n",
    "print('weights', weights)\n",
    "print('bias', bias)\n",
    "plot_decision_boundary(clf)"
   ]
  },
  {
   "cell_type": "code",
   "execution_count": 16,
   "metadata": {},
   "outputs": [
    {
     "data": {
      "text/plain": [
       "-23.8"
      ]
     },
     "execution_count": 16,
     "metadata": {},
     "output_type": "execute_result"
    }
   ],
   "source": [
    "9.8 * -3 + 2 * 11.3 - 17"
   ]
  },
  {
   "cell_type": "code",
   "execution_count": 17,
   "metadata": {},
   "outputs": [
    {
     "name": "stdout",
     "output_type": "stream",
     "text": [
      "z [[36.]]\n",
      "[[1.]]\n"
     ]
    }
   ],
   "source": [
    "import numpy as np\n",
    "from sklearn.linear_model import Perceptron\n",
    "\n",
    "# create a toy dataset\n",
    "X = np.array([[1, 2], [3, 4], [5, 6]])\n",
    "y = np.array([0, 1, 1])\n",
    "\n",
    "# fit the perceptron model\n",
    "clf = Perceptron().fit(X, y)\n",
    "\n",
    "# extract the weights and bias term\n",
    "weights = clf.coef_\n",
    "bias = clf.intercept_\n",
    "\n",
    "# predict the label for a new point [x, y]\n",
    "new_point = np.array([[7, 8]])\n",
    "z = np.dot(new_point, weights.T) + bias\n",
    "print('z', z)\n",
    "predicted_label = np.sign(z)\n",
    "\n",
    "print(predicted_label) "
   ]
  },
  {
   "cell_type": "code",
   "execution_count": 18,
   "metadata": {},
   "outputs": [
    {
     "data": {
      "text/plain": [
       "array([36.])"
      ]
     },
     "execution_count": 18,
     "metadata": {},
     "output_type": "execute_result"
    }
   ],
   "source": [
    "6 * 7 + 0 * 8 + bias"
   ]
  },
  {
   "cell_type": "markdown",
   "metadata": {},
   "source": [
    "## 2-layer Neural Network"
   ]
  },
  {
   "cell_type": "code",
   "execution_count": 25,
   "metadata": {},
   "outputs": [
    {
     "name": "stderr",
     "output_type": "stream",
     "text": [
      "/Users/wilberjw/opt/anaconda3/envs/py38/lib/python3.8/site-packages/sklearn/neural_network/_multilayer_perceptron.py:582: ConvergenceWarning: Stochastic Optimizer: Maximum iterations (100) reached and the optimization hasn't converged yet.\n",
      "  warnings.warn(\n"
     ]
    },
    {
     "data": {
      "image/png": "[encoded data removed]",
      "text/plain": [
       "<Figure size 432x288 with 1 Axes>"
      ]
     },
     "metadata": {
      "needs_background": "light"
     },
     "output_type": "display_data"
    }
   ],
   "source": [
    "# Train a neural network model with two hidden layers (each a perceptron) on the dataset\n",
    "clf = MLPClassifier(hidden_layer_sizes=(2,), activation='relu', solver='sgd', max_iter=100).fit(X, y)\n",
    "\n",
    "plot_decision_boundary(clf)"
   ]
  },
  {
   "cell_type": "code",
   "execution_count": 26,
   "metadata": {},
   "outputs": [
    {
     "data": {
      "image/png": "[encoded data removed]",
      "text/plain": [
       "<Figure size 432x288 with 1 Axes>"
      ]
     },
     "metadata": {
      "needs_background": "light"
     },
     "output_type": "display_data"
    }
   ],
   "source": [
    "# Train a neural network model with two hidden layers (each a perceptron) on the dataset\n",
    "clf = MLPClassifier(hidden_layer_sizes=(6,), activation='logistic', solver='sgd', max_iter=20000).fit(X, y)\n",
    "\n",
    "plot_decision_boundary(clf)"
   ]
  },
  {
   "cell_type": "code",
   "execution_count": 38,
   "metadata": {},
   "outputs": [
    {
     "data": {
      "text/html": [
       "<div>\n",
       "<style scoped>\n",
       "    .dataframe tbody tr th:only-of-type {\n",
       "        vertical-align: middle;\n",
       "    }\n",
       "\n",
       "    .dataframe tbody tr th {\n",
       "        vertical-align: top;\n",
       "    }\n",
       "\n",
       "    .dataframe thead th {\n",
       "        text-align: right;\n",
       "    }\n",
       "</style>\n",
       "<table border=\"1\" class=\"dataframe\">\n",
       "  <thead>\n",
       "    <tr style=\"text-align: right;\">\n",
       "      <th></th>\n",
       "      <th>x</th>\n",
       "      <th>y</th>\n",
       "      <th>label</th>\n",
       "    </tr>\n",
       "  </thead>\n",
       "  <tbody>\n",
       "  </tbody>\n",
       "</table>\n",
       "</div>"
      ],
      "text/plain": [
       "Empty DataFrame\n",
       "Columns: [x, y, label]\n",
       "Index: []"
      ]
     },
     "execution_count": 38,
     "metadata": {},
     "output_type": "execute_result"
    }
   ],
   "source": [
    "rows_with_missing_values = df.loc[list(filter(lambda x: df.loc[x].isna().any(), df.index))]\n",
    "rows_with_missing_values"
   ]
  },
  {
   "cell_type": "code",
   "execution_count": 39,
   "metadata": {},
   "outputs": [
    {
     "data": {
      "image/png": "[encoded data removed]",
      "text/plain": [
       "<Figure size 432x288 with 1 Axes>"
      ]
     },
     "metadata": {
      "needs_background": "light"
     },
     "output_type": "display_data"
    }
   ],
   "source": [
    "import numpy as np\n",
    "from sklearn import datasets\n",
    "import matplotlib.pyplot as plt\n",
    "\n",
    "n_samples = 100\n",
    "noisy_moons = datasets.make_moons(n_samples=n_samples, noise=0.05)\n",
    "\n",
    "# The dataset is a tuple, with the first element containing the (x, y) coordinates and the second element containing the labels\n",
    "X, y = noisy_moons\n",
    "\n",
    "# Create a scatter plot using different colors for the two moon-shaped clusters\n",
    "plt.scatter(X[y == 0][:, 0], X[y == 0][:, 1], color='red', label='Cluster 1')\n",
    "plt.scatter(X[y == 1][:, 0], X[y == 1][:, 1], color='blue', label='Cluster 2')\n",
    "\n",
    "# Add labels and a legend\n",
    "plt.xlabel('X-axis')\n",
    "plt.ylabel('Y-axis')\n",
    "plt.legend(loc='best')\n",
    "\n",
    "# Show the plot\n",
    "plt.show()\n"
   ]
  },
  {
   "cell_type": "code",
   "execution_count": 64,
   "metadata": {},
   "outputs": [
    {
     "data": {
      "image/png": "[encoded data removed]",
      "text/plain": [
       "<Figure size 432x288 with 1 Axes>"
      ]
     },
     "metadata": {
      "needs_background": "light"
     },
     "output_type": "display_data"
    }
   ],
   "source": [
    "import numpy as np\n",
    "from sklearn import datasets\n",
    "from sklearn.linear_model import LogisticRegression\n",
    "import matplotlib.pyplot as plt\n",
    "\n",
    "n_samples = 40\n",
    "noisy_moons = datasets.make_moons(n_samples=n_samples, noise=0.05)\n",
    "\n",
    "# The dataset is a tuple, with the first element containing the (x, y) coordinates and the second element containing the labels\n",
    "X, y = noisy_moons\n",
    "\n",
    "# Train the logistic regression model\n",
    "model = LogisticRegression(solver='lbfgs')\n",
    "model.fit(X, y)\n",
    "\n",
    "# Create a mesh to plot the decision boundary\n",
    "x_min, x_max = X[:, 0].min() - 1, X[:, 0].max() + 1\n",
    "y_min, y_max = X[:, 1].min() - 1, X[:, 1].max() + 1\n",
    "xx, yy = np.meshgrid(np.arange(x_min, x_max, 0.01),\n",
    "                     np.arange(y_min, y_max, 0.01))\n",
    "\n",
    "# Predict the label for each point in the mesh\n",
    "Z = model.predict(np.c_[xx.ravel(), yy.ravel()])\n",
    "Z = Z.reshape(xx.shape)\n",
    "\n",
    "# Plot the decision boundary using a contour plot\n",
    "plt.contourf(xx, yy, Z, alpha=0.8)\n",
    "\n",
    "# Create a scatter plot using different colors for the two moon-shaped clusters\n",
    "plt.scatter(X[y == 0][:, 0], X[y == 0][:, 1], color='red', label='Cluster 1')\n",
    "plt.scatter(X[y == 1][:, 0], X[y == 1][:, 1], color='blue', label='Cluster 2')\n",
    "\n",
    "# Add labels and a legend\n",
    "plt.xlabel('X-axis')\n",
    "plt.ylabel('Y-axis')\n",
    "plt.legend(loc='best')\n",
    "\n",
    "# Show the plot\n",
    "plt.show()\n"
   ]
  },
  {
   "cell_type": "code",
   "execution_count": 67,
   "metadata": {},
   "outputs": [
    {
     "data": {
      "image/png": "[encoded data removed]",
      "text/plain": [
       "<Figure size 432x288 with 1 Axes>"
      ]
     },
     "metadata": {
      "needs_background": "light"
     },
     "output_type": "display_data"
    }
   ],
   "source": [
    "import numpy as np\n",
    "from sklearn import datasets\n",
    "from sklearn.linear_model import Perceptron\n",
    "import matplotlib.pyplot as plt\n",
    "\n",
    "for i in range(1):\n",
    "    np.random.seed(i)\n",
    "    # Train the Perceptron model\n",
    "    model = Perceptron()\n",
    "    model.fit(X, y)\n",
    "\n",
    "    # Predict the label for each point in the mesh\n",
    "    Z = model.predict(np.c_[xx.ravel(), yy.ravel()])\n",
    "    Z = Z.reshape(xx.shape)\n",
    "\n",
    "    # Plot the decision boundary using a contour plot\n",
    "    plt.contourf(xx, yy, Z, alpha=0.8)\n",
    "\n",
    "    # Create a scatter plot using different colors for the two moon-shaped clusters\n",
    "    plt.scatter(X[y == 0][:, 0], X[y == 0][:, 1], color='red', label='Cluster 1')\n",
    "    plt.scatter(X[y == 1][:, 0], X[y == 1][:, 1], color='blue', label='Cluster 2')\n",
    "\n",
    "    # Add labels and a legend\n",
    "    plt.xlabel('X-axis')\n",
    "    plt.ylabel('Y-axis')\n",
    "    plt.legend(loc='best')\n",
    "\n",
    "    # Show the plot\n",
    "    plt.show()\n"
   ]
  },
  {
   "cell_type": "code",
   "execution_count": 118,
   "metadata": {},
   "outputs": [
    {
     "data": {
      "image/png": "[encoded data removed]",
      "text/plain": [
       "<Figure size 432x288 with 1 Axes>"
      ]
     },
     "metadata": {
      "needs_background": "light"
     },
     "output_type": "display_data"
    }
   ],
   "source": [
    "import numpy as np\n",
    "from sklearn import datasets\n",
    "from sklearn.neural_network import MLPClassifier\n",
    "import matplotlib.pyplot as plt\n",
    "\n",
    "n_samples = 50\n",
    "noisy_moons = datasets.make_moons(n_samples=n_samples, noise=0.05)\n",
    "\n",
    "# The dataset is a tuple, with the first element containing the (x, y) coordinates and the second element containing the labels\n",
    "X, y = noisy_moons\n",
    "\n",
    "# Train the neural network with two hidden layers\n",
    "model = MLPClassifier(hidden_layer_sizes=(6, 8), activation='relu', max_iter=20000)\n",
    "model.fit(X, y)\n",
    "\n",
    "# Create a mesh to plot the decision boundary\n",
    "x_min, x_max = X[:, 0].min() - 1, X[:, 0].max() + 1\n",
    "y_min, y_max = X[:, 1].min() - 1, X[:, 1].max() + 1\n",
    "xx, yy = np.meshgrid(np.arange(x_min, x_max, 0.01),\n",
    "                     np.arange(y_min, y_max, 0.01))\n",
    "\n",
    "# Predict the label for each point in the mesh\n",
    "Z = model.predict(np.c_[xx.ravel(), yy.ravel()])\n",
    "Z = Z.reshape(xx.shape)\n",
    "\n",
    "# Plot the decision boundary using a contour plot\n",
    "plt.contourf(xx, yy, Z, alpha=0.8)\n",
    "\n",
    "# Create a scatter plot using different colors for the two moon-shaped clusters\n",
    "plt.scatter(X[y == 0][:, 0], X[y == 0][:, 1], color='red', label='Cluster 1')\n",
    "plt.scatter(X[y == 1][:, 0], X[y == 1][:, 1], color='blue', label='Cluster 2')\n",
    "\n",
    "# Add labels and a legend\n",
    "plt.xlabel('X-axis')\n",
    "plt.ylabel('Y-axis')\n",
    "plt.legend(loc='best')\n",
    "\n",
    "# Show the plot\n",
    "plt.show()\n"
   ]
  },
  {
   "cell_type": "code",
   "execution_count": 116,
   "metadata": {},
   "outputs": [
    {
     "name": "stdout",
     "output_type": "stream",
     "text": [
      "         x1        x2    y\n",
      "0 -0.198642  0.918405  0.0\n",
      "1 -0.395239  0.922744  0.0\n",
      "2  1.736686 -0.091616  1.0\n",
      "3  0.923472  0.246100  0.0\n",
      "4  0.719175 -0.533591  1.0\n"
     ]
    }
   ],
   "source": [
    "# n_samples = 30\n",
    "# noisy_moons = datasets.make_moons(n_samples=n_samples, noise=0.05)\n",
    "\n",
    "# X, y = noisy_moons\n",
    "\n",
    "# # Combine the features and the labels into a single array\n",
    "# data = np.column_stack((X, y))\n",
    "\n",
    "# # Create a pandas DataFrame with column names x1, x2, and y\n",
    "# df = pd.DataFrame(data, columns=['x1', 'x2', 'y'])\n",
    "# df.to_json('moon.json', orient='records')\n",
    "# print(df.head())"
   ]
  },
  {
   "cell_type": "code",
   "execution_count": 121,
   "metadata": {},
   "outputs": [
    {
     "name": "stdout",
     "output_type": "stream",
     "text": [
      "Prediction: [0]\n"
     ]
    }
   ],
   "source": [
    "import numpy as np\n",
    "from sklearn.neural_network import MLPClassifier\n",
    "\n",
    "# Assuming X and y are already defined\n",
    "# model = MLPClassifier(hidden_layer_sizes=(6, 8), activation='relu', max_iter=20000)\n",
    "# model.fit(X, y)\n",
    "\n",
    "def relu(x):\n",
    "    return np.maximum(0, x)\n",
    "\n",
    "def predict_custom(x, weights, biases):\n",
    "    layer_output = x\n",
    "    num_layers = len(weights)\n",
    "    \n",
    "    # Apply weights and biases for each layer\n",
    "    for i in range(num_layers):\n",
    "        layer_output = np.dot(layer_output, weights[i]) + biases[i]\n",
    "        \n",
    "        # Apply ReLU activation function for all layers except the last one\n",
    "        if i < num_layers - 1:\n",
    "            layer_output = relu(layer_output)\n",
    "    \n",
    "    # Return the class with the highest output value\n",
    "    return np.argmax(layer_output, axis=1)\n",
    "\n",
    "# Extract weights and biases\n",
    "weights = model.coefs_\n",
    "biases = model.intercepts_\n",
    "\n",
    "# Test the custom prediction function on a new data point\n",
    "new_point = np.array([[0, 2]])\n",
    "prediction = predict_custom(new_point, weights, biases)\n",
    "print(\"Prediction:\", prediction)\n"
   ]
  },
  {
   "cell_type": "code",
   "execution_count": 130,
   "metadata": {},
   "outputs": [
    {
     "name": "stdout",
     "output_type": "stream",
     "text": [
      "Custom Prediction: [0]\n",
      "Built-in Prediction: [0]\n",
      "Predictions match: True\n"
     ]
    }
   ],
   "source": [
    "import numpy as np\n",
    "from sklearn.neural_network import MLPClassifier\n",
    "\n",
    "# Assuming X and y are already defined\n",
    "model = MLPClassifier(hidden_layer_sizes=(6, 8), activation='relu', max_iter=20000)\n",
    "model.fit(X, y)\n",
    "\n",
    "def relu(x):\n",
    "    return np.maximum(0, x)\n",
    "\n",
    "def sigmoid(x):\n",
    "    return 1 / (1 + np.exp(-x))\n",
    "\n",
    "def predict_custom(x, weights, biases):\n",
    "    layer_output = x\n",
    "    num_layers = len(weights)\n",
    "    \n",
    "    # Apply weights and biases for each layer\n",
    "    for i in range(num_layers):\n",
    "        layer_output = np.dot(layer_output, weights[i]) + biases[i]\n",
    "        \n",
    "        # Apply ReLU activation function for all layers except the last one\n",
    "        if i < num_layers - 1:\n",
    "            layer_output = relu(layer_output)\n",
    "\n",
    "    # Apply the sigmoid activation function for the output layer\n",
    "    layer_output = sigmoid(layer_output)\n",
    "\n",
    "    # Return the class with the highest output value\n",
    "    return np.argmax(layer_output, axis=1)\n",
    "\n",
    "# Extract weights and biases\n",
    "weights = model.coefs_\n",
    "biases = model.intercepts_\n",
    "\n",
    "# Test the custom prediction function on a new data point\n",
    "new_point = np.array([[5, 7]])\n",
    "prediction_custom = predict_custom(new_point, weights, biases)\n",
    "print(\"Custom Prediction:\", prediction_custom)\n",
    "\n",
    "# Compare with the built-in predict method\n",
    "prediction_builtin = model.predict(new_point)\n",
    "print(\"Built-in Prediction:\", prediction_builtin)\n",
    "\n",
    "# Check if the predictions are the same\n",
    "print(\"Predictions match:\", np.array_equal(prediction_custom, prediction_builtin))\n"
   ]
  },
  {
   "cell_type": "code",
   "execution_count": null,
   "metadata": {},
   "outputs": [],
   "source": []
  }
 ],
 "metadata": {
  "kernelspec": {
   "display_name": "Python 3",
   "language": "python",
   "name": "python3"
  },
  "language_info": {
   "codemirror_mode": {
    "name": "ipython",
    "version": 3
   },
   "file_extension": ".py",
   "mimetype": "text/x-python",
   "name": "python",
   "nbconvert_exporter": "python",
   "pygments_lexer": "ipython3",
   "version": "3.8.5"
  }
 },
 "nbformat": 4,
 "nbformat_minor": 4
}
