{
 "cells": [
  {
   "cell_type": "code",
   "execution_count": 42,
   "metadata": {},
   "outputs": [],
   "source": [
    "import matplotlib.pyplot as plt\n",
    "import numpy as np\n",
    "import pandas as pd\n",
    "import seaborn as sns\n",
    "\n",
    "from sklearn import metrics"
   ]
  },
  {
   "cell_type": "code",
   "execution_count": 44,
   "metadata": {},
   "outputs": [],
   "source": [
    "def normalize_data(data):\n",
    "    return np.round((data - np.min(data)) / (np.max(data) - np.min(data)), 3)"
   ]
  },
  {
   "cell_type": "markdown",
   "metadata": {},
   "source": [
    "## Create Paired Distributions For Beeswarm Plot"
   ]
  },
  {
   "cell_type": "code",
   "execution_count": 85,
   "metadata": {},
   "outputs": [],
   "source": [
    "np.random.seed(36)\n",
    "\n",
    "# num samples per group\n",
    "n = 40\n",
    "\n",
    "# each class from a slightly diff normal dist\n",
    "class1 = [i for i in np.random.normal(.55, .1, n)]\n",
    "class2 = [i for i in np.random.normal(0.41, .1, int(n))]\n",
    "\n",
    "# coerce data to list\n",
    "x = class1 + class2\n",
    "\n",
    "# coerce to [0, 1] \n",
    "x = normalize_data(x)\n",
    "\n",
    "# create labels\n",
    "y = [1] * n + [0] * int(n)\n",
    "  \n",
    "# send data to df\n",
    "df = pd.DataFrame(list(zip(x, y)), columns=['xVal', 'yVal'])"
   ]
  },
  {
   "cell_type": "code",
   "execution_count": 86,
   "metadata": {},
   "outputs": [
    {
     "data": {
      "text/plain": [
       "<AxesSubplot:xlabel='xVal', ylabel='yVal'>"
      ]
     },
     "execution_count": 86,
     "metadata": {},
     "output_type": "execute_result"
    },
    {
     "data": {
      "image/png": "[encoded data removed]",
      "text/plain": [
       "<Figure size 432x288 with 1 Axes>"
      ]
     },
     "metadata": {
      "needs_background": "light"
     },
     "output_type": "display_data"
    }
   ],
   "source": [
    "# view data\n",
    "sns.scatterplot(data=df, x=\"xVal\", y=\"yVal\", hue=\"yVal\")"
   ]
  },
  {
   "cell_type": "markdown",
   "metadata": {},
   "source": [
    "## Generate Classification Eval Metrics For Dataset"
   ]
  },
  {
   "cell_type": "code",
   "execution_count": 87,
   "metadata": {},
   "outputs": [],
   "source": [
    "# utility funcs; move classification threshold & calculate metrics\n",
    "def a_simple_classifier(x, thres = 0.5):\n",
    "    predicted = np.zeros(len(x))\n",
    "    for i in range(len(x)):\n",
    "        if x[i] > thres:\n",
    "            predicted[i] = 1 \n",
    "    return predicted\n",
    "\n",
    "\n",
    "def calculate_metrics(predicted, actual):\n",
    "    TP, FP, TN, FN = 0, 0, 0, 0\n",
    "    for i in range(len(predicted)):\n",
    "        if   (predicted[i] == 1) & (actual[i] == 1):\n",
    "            TP += 1\n",
    "        elif (predicted[i] == 1) & (actual[i] == 0):\n",
    "            FP += 1\n",
    "        elif (predicted[i] == 0) & (actual[i] == 0):\n",
    "            TN += 1\n",
    "        else:\n",
    "            FN += 1\n",
    "\n",
    "    accuracy  = (TP + TN) / (TP + FP + TN + FN + 0.00000001) \n",
    "    precision = (TP) / (TP + FP + 0.00000001) \n",
    "    recall    = (TP) / (TP + FN + 0.00000001) \n",
    "    f1_score  = (2 * precision * recall) / (precision + recall + 0.00000001)\n",
    "    fpr = 1. * FP / (FP + TN + 0.000000001)\n",
    "    tpr =  recall\n",
    "    \n",
    "    return accuracy, precision, recall, f1_score, fpr, tpr"
   ]
  },
  {
   "cell_type": "code",
   "execution_count": 88,
   "metadata": {},
   "outputs": [
    {
     "name": "stdout",
     "output_type": "stream",
     "text": [
      "Threshold \t Accuracy \t Precision\t Recall \t  F1 Score \t FPR \t TPR \n",
      " 0.00\t\t  0.51\t\t  0.51\t\t  1.00\t\t  0.67\t\t  0.97\t\t  1.00\n",
      " 0.03\t\t  0.51\t\t  0.51\t\t  1.00\t\t  0.67\t\t  0.97\t\t  1.00\n",
      " 0.05\t\t  0.52\t\t  0.51\t\t  1.00\t\t  0.68\t\t  0.95\t\t  1.00\n",
      " 0.08\t\t  0.52\t\t  0.51\t\t  1.00\t\t  0.68\t\t  0.95\t\t  1.00\n",
      " 0.10\t\t  0.52\t\t  0.51\t\t  1.00\t\t  0.68\t\t  0.95\t\t  1.00\n",
      " 0.13\t\t  0.54\t\t  0.52\t\t  1.00\t\t  0.68\t\t  0.92\t\t  1.00\n",
      " 0.15\t\t  0.54\t\t  0.52\t\t  1.00\t\t  0.68\t\t  0.92\t\t  1.00\n",
      " 0.18\t\t  0.55\t\t  0.53\t\t  1.00\t\t  0.69\t\t  0.90\t\t  1.00\n",
      " 0.20\t\t  0.56\t\t  0.53\t\t  1.00\t\t  0.70\t\t  0.87\t\t  1.00\n",
      " 0.23\t\t  0.60\t\t  0.56\t\t  1.00\t\t  0.71\t\t  0.80\t\t  1.00\n",
      " 0.25\t\t  0.61\t\t  0.57\t\t  0.97\t\t  0.72\t\t  0.75\t\t  0.97\n",
      " 0.28\t\t  0.65\t\t  0.59\t\t  0.95\t\t  0.73\t\t  0.65\t\t  0.95\n",
      " 0.30\t\t  0.70\t\t  0.63\t\t  0.95\t\t  0.76\t\t  0.55\t\t  0.95\n",
      " 0.33\t\t  0.72\t\t  0.66\t\t  0.92\t\t  0.77\t\t  0.47\t\t  0.92\n",
      " 0.35\t\t  0.70\t\t  0.65\t\t  0.87\t\t  0.74\t\t  0.47\t\t  0.87\n",
      " 0.38\t\t  0.70\t\t  0.65\t\t  0.85\t\t  0.74\t\t  0.45\t\t  0.85\n",
      " 0.40\t\t  0.72\t\t  0.70\t\t  0.77\t\t  0.74\t\t  0.32\t\t  0.77\n",
      " 0.43\t\t  0.75\t\t  0.74\t\t  0.77\t\t  0.76\t\t  0.27\t\t  0.77\n",
      " 0.45\t\t  0.71\t\t  0.72\t\t  0.70\t\t  0.71\t\t  0.27\t\t  0.70\n",
      " 0.48\t\t  0.72\t\t  0.74\t\t  0.70\t\t  0.72\t\t  0.25\t\t  0.70\n",
      " 0.50\t\t  0.71\t\t  0.76\t\t  0.62\t\t  0.68\t\t  0.20\t\t  0.62\n",
      " 0.53\t\t  0.71\t\t  0.81\t\t  0.55\t\t  0.66\t\t  0.12\t\t  0.55\n",
      " 0.55\t\t  0.70\t\t  0.86\t\t  0.47\t\t  0.61\t\t  0.07\t\t  0.47\n",
      " 0.58\t\t  0.66\t\t  0.88\t\t  0.37\t\t  0.53\t\t  0.05\t\t  0.37\n",
      " 0.60\t\t  0.64\t\t  0.87\t\t  0.32\t\t  0.47\t\t  0.05\t\t  0.32\n",
      " 0.63\t\t  0.64\t\t  0.87\t\t  0.32\t\t  0.47\t\t  0.05\t\t  0.32\n",
      " 0.65\t\t  0.62\t\t  0.92\t\t  0.27\t\t  0.42\t\t  0.02\t\t  0.27\n",
      " 0.68\t\t  0.60\t\t  0.90\t\t  0.22\t\t  0.36\t\t  0.02\t\t  0.22\n",
      " 0.70\t\t  0.60\t\t  0.90\t\t  0.22\t\t  0.36\t\t  0.02\t\t  0.22\n",
      " 0.73\t\t  0.59\t\t  0.89\t\t  0.20\t\t  0.33\t\t  0.02\t\t  0.20\n",
      " 0.75\t\t  0.59\t\t  1.00\t\t  0.17\t\t  0.30\t\t  0.00\t\t  0.17\n",
      " 0.78\t\t  0.57\t\t  1.00\t\t  0.15\t\t  0.26\t\t  0.00\t\t  0.15\n",
      " 0.80\t\t  0.57\t\t  1.00\t\t  0.15\t\t  0.26\t\t  0.00\t\t  0.15\n",
      " 0.83\t\t  0.56\t\t  1.00\t\t  0.12\t\t  0.22\t\t  0.00\t\t  0.12\n",
      " 0.85\t\t  0.56\t\t  1.00\t\t  0.12\t\t  0.22\t\t  0.00\t\t  0.12\n",
      " 0.88\t\t  0.54\t\t  1.00\t\t  0.07\t\t  0.14\t\t  0.00\t\t  0.07\n",
      " 0.90\t\t  0.54\t\t  1.00\t\t  0.07\t\t  0.14\t\t  0.00\t\t  0.07\n",
      " 0.93\t\t  0.54\t\t  1.00\t\t  0.07\t\t  0.14\t\t  0.00\t\t  0.07\n",
      " 0.95\t\t  0.51\t\t  1.00\t\t  0.02\t\t  0.05\t\t  0.00\t\t  0.02\n",
      " 0.98\t\t  0.51\t\t  1.00\t\t  0.02\t\t  0.05\t\t  0.00\t\t  0.02\n"
     ]
    }
   ],
   "source": [
    "# init arrays\n",
    "thresh = np.linspace(np.min(x), np.max(x) - .02, n) \n",
    "accuracy = np.zeros(len(thresh))\n",
    "precision = np.zeros(len(thresh))\n",
    "recall = np.zeros(len(thresh))\n",
    "f1_score = np.zeros(len(thresh))\n",
    "fpr = np.zeros(len(thresh))\n",
    "tpr = np.zeros(len(thresh))\n",
    "\n",
    "print('Threshold \\t Accuracy \\t Precision\\t Recall \\t  F1 Score \\t FPR \\t TPR ')\n",
    "\n",
    "# loop and calculate values\n",
    "for i in range(len(thresh)):\n",
    "    prediction = a_simple_classifier(x, thresh[i])\n",
    "    accuracy[i], precision[i], recall[i], f1_score[i], fpr[i], tpr[i] = calculate_metrics(prediction, y)\n",
    "    print(f'{thresh[i]: .2f}\\t\\t {accuracy[i]: .2f}\\t\\t {precision[i]: .2f}\\t\\t {recall[i]: .2f}\\t\\t {f1_score[i]: .2f}\\t\\t {fpr[i]: .2f}\\t\\t {tpr[i]: .2f}')"
   ]
  },
  {
   "cell_type": "markdown",
   "metadata": {},
   "source": [
    "## Plot Classification Eval Tradeoff"
   ]
  },
  {
   "cell_type": "code",
   "execution_count": 89,
   "metadata": {},
   "outputs": [
    {
     "data": {
      "image/png": "[encoded data removed]",
      "text/plain": [
       "<Figure size 432x288 with 1 Axes>"
      ]
     },
     "metadata": {
      "needs_background": "light"
     },
     "output_type": "display_data"
    }
   ],
   "source": [
    "# plot metric tradeoff\n",
    "plt.plot(thresh, accuracy, 'r')\n",
    "plt.plot(thresh, precision, 'g')\n",
    "plt.plot(thresh, recall,'b')\n",
    "plt.plot(thresh, f1_score,'k')\n",
    "\n",
    "plt.legend(['Accuracy', 'Precision','Recall', 'F1 Score' ])\n",
    "plt.xlabel('Threshold')\n",
    "plt.ylabel('Scores')\n",
    "plt.title('Change of Evaluation Metrics according to Threshold')\n",
    "\n",
    "plt.show()"
   ]
  },
  {
   "cell_type": "code",
   "execution_count": 90,
   "metadata": {},
   "outputs": [
    {
     "name": "stdout",
     "output_type": "stream",
     "text": [
      "accuracy 0.5125\n",
      "              precision    recall  f1-score   support\n",
      "\n",
      "           0       0.51      1.00      0.67        40\n",
      "           1       1.00      0.03      0.05        40\n",
      "\n",
      "    accuracy                           0.51        80\n",
      "   macro avg       0.75      0.51      0.36        80\n",
      "weighted avg       0.75      0.51      0.36        80\n",
      "\n"
     ]
    },
    {
     "data": {
      "text/plain": [
       "array([[40,  0],\n",
       "       [39,  1]])"
      ]
     },
     "execution_count": 90,
     "metadata": {},
     "output_type": "execute_result"
    }
   ],
   "source": [
    "from sklearn.metrics import accuracy_score\n",
    "log_score = accuracy_score(y, prediction)\n",
    "print(\"accuracy\", log_score)\n",
    "\n",
    "from sklearn.metrics import classification_report\n",
    "print(classification_report(y, prediction))  # logistic classification report\n",
    "\n",
    "from sklearn.metrics import confusion_matrix\n",
    "confusion_matrix(y, prediction)"
   ]
  },
  {
   "cell_type": "markdown",
   "metadata": {},
   "source": [
    "## Plot ROC"
   ]
  },
  {
   "cell_type": "code",
   "execution_count": 91,
   "metadata": {},
   "outputs": [
    {
     "data": {
      "image/png": "[encoded data removed]",
      "text/plain": [
       "<Figure size 432x288 with 1 Axes>"
      ]
     },
     "metadata": {
      "needs_background": "light"
     },
     "output_type": "display_data"
    }
   ],
   "source": [
    "# AUC \n",
    "auc = metrics.auc(fpr, tpr)\n",
    "\n",
    "# plot auc\n",
    "plt.plot(fpr, tpr, label=f\"AUC: {auc}\")\n",
    "plt.legend(loc=4)\n",
    "plt.show()"
   ]
  },
  {
   "cell_type": "markdown",
   "metadata": {},
   "source": [
    "## Export data for article\n",
    "- ROC Points (fpr, tpr, metrics)\n",
    "- ScatterPlot"
   ]
  },
  {
   "cell_type": "code",
   "execution_count": 92,
   "metadata": {},
   "outputs": [],
   "source": [
    "df.to_json('scatterData.json', orient='records')"
   ]
  },
  {
   "cell_type": "code",
   "execution_count": 93,
   "metadata": {},
   "outputs": [],
   "source": [
    "halfs = [0.5] * n\n",
    "zeros = [0.0] * n\n",
    "ones = [1.] * n\n",
    "thresh = [np.round(i, 3) for i in thresh]\n",
    "tpr = [np.round(i, 3) for i in tpr]\n",
    "fpr = [np.round(i, 3) for i in fpr]"
   ]
  },
  {
   "cell_type": "code",
   "execution_count": 94,
   "metadata": {},
   "outputs": [],
   "source": [
    "roc_df = pd.DataFrame(list(zip(thresh, tpr, fpr, zeros, halfs, ones)), columns = ['threshold', 'tpr', 'fpr', 'zeros', 'halfs', 'ones'])\n",
    "roc_df.to_json('rocData.json', orient='records')"
   ]
  }
 ],
 "metadata": {
  "kernelspec": {
   "display_name": "Python 3",
   "language": "python",
   "name": "python3"
  },
  "language_info": {
   "codemirror_mode": {
    "name": "ipython",
    "version": 3
   },
   "file_extension": ".py",
   "mimetype": "text/x-python",
   "name": "python",
   "nbconvert_exporter": "python",
   "pygments_lexer": "ipython3",
   "version": "3.8.5"
  }
 },
 "nbformat": 4,
 "nbformat_minor": 4
}
