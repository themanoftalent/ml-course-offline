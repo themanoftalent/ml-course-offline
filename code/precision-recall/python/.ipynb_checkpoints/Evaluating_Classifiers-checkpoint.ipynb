{
 "cells": [
  {
   "cell_type": "code",
   "execution_count": 12,
   "metadata": {},
   "outputs": [],
   "source": [
    "import pandas as pd\n",
    "from sklearn.metrics import f1_score\n",
    "import numpy as np # linear algebra\n",
    "import pandas as pd # data processing\n",
    "import seaborn as sns # data visualization library  \n",
    "import matplotlib.pyplot as plt"
   ]
  },
  {
   "cell_type": "markdown",
   "metadata": {},
   "source": [
    "### This article provides the python code used to underpin the content and visualizations in our Evalutating Classifiers article: "
   ]
  },
  {
   "cell_type": "code",
   "execution_count": 300,
   "metadata": {},
   "outputs": [],
   "source": [
    "# num datapoints\n",
    "start = 20\n",
    "n = 50 + 20"
   ]
  },
  {
   "cell_type": "code",
   "execution_count": 320,
   "metadata": {},
   "outputs": [
    {
     "data": {
      "text/html": [
       "<div>\n",
       "<style scoped>\n",
       "    .dataframe tbody tr th:only-of-type {\n",
       "        vertical-align: middle;\n",
       "    }\n",
       "\n",
       "    .dataframe tbody tr th {\n",
       "        vertical-align: top;\n",
       "    }\n",
       "\n",
       "    .dataframe thead th {\n",
       "        text-align: right;\n",
       "    }\n",
       "</style>\n",
       "<table border=\"1\" class=\"dataframe\">\n",
       "  <thead>\n",
       "    <tr style=\"text-align: right;\">\n",
       "      <th></th>\n",
       "      <th>3</th>\n",
       "      <th>4</th>\n",
       "    </tr>\n",
       "  </thead>\n",
       "  <tbody>\n",
       "    <tr>\n",
       "      <th>0</th>\n",
       "      <td>520.0</td>\n",
       "      <td>0.10750</td>\n",
       "    </tr>\n",
       "    <tr>\n",
       "      <th>1</th>\n",
       "      <td>273.9</td>\n",
       "      <td>0.10240</td>\n",
       "    </tr>\n",
       "    <tr>\n",
       "      <th>2</th>\n",
       "      <td>704.4</td>\n",
       "      <td>0.10730</td>\n",
       "    </tr>\n",
       "    <tr>\n",
       "      <th>3</th>\n",
       "      <td>1404.0</td>\n",
       "      <td>0.09428</td>\n",
       "    </tr>\n",
       "    <tr>\n",
       "      <th>4</th>\n",
       "      <td>904.6</td>\n",
       "      <td>0.11210</td>\n",
       "    </tr>\n",
       "    <tr>\n",
       "      <th>5</th>\n",
       "      <td>912.7</td>\n",
       "      <td>0.11860</td>\n",
       "    </tr>\n",
       "    <tr>\n",
       "      <th>6</th>\n",
       "      <td>644.8</td>\n",
       "      <td>0.10540</td>\n",
       "    </tr>\n",
       "    <tr>\n",
       "      <th>7</th>\n",
       "      <td>1094.0</td>\n",
       "      <td>0.09440</td>\n",
       "    </tr>\n",
       "    <tr>\n",
       "      <th>8</th>\n",
       "      <td>732.4</td>\n",
       "      <td>0.10820</td>\n",
       "    </tr>\n",
       "    <tr>\n",
       "      <th>9</th>\n",
       "      <td>955.1</td>\n",
       "      <td>0.09847</td>\n",
       "    </tr>\n",
       "    <tr>\n",
       "      <th>10</th>\n",
       "      <td>1088.0</td>\n",
       "      <td>0.10640</td>\n",
       "    </tr>\n",
       "    <tr>\n",
       "      <th>11</th>\n",
       "      <td>440.6</td>\n",
       "      <td>0.11090</td>\n",
       "    </tr>\n",
       "    <tr>\n",
       "      <th>12</th>\n",
       "      <td>899.3</td>\n",
       "      <td>0.11970</td>\n",
       "    </tr>\n",
       "    <tr>\n",
       "      <th>13</th>\n",
       "      <td>1162.0</td>\n",
       "      <td>0.09401</td>\n",
       "    </tr>\n",
       "    <tr>\n",
       "      <th>14</th>\n",
       "      <td>807.2</td>\n",
       "      <td>0.10400</td>\n",
       "    </tr>\n",
       "    <tr>\n",
       "      <th>15</th>\n",
       "      <td>869.5</td>\n",
       "      <td>0.09610</td>\n",
       "    </tr>\n",
       "    <tr>\n",
       "      <th>16</th>\n",
       "      <td>633.0</td>\n",
       "      <td>0.09823</td>\n",
       "    </tr>\n",
       "    <tr>\n",
       "      <th>17</th>\n",
       "      <td>523.8</td>\n",
       "      <td>0.08983</td>\n",
       "    </tr>\n",
       "    <tr>\n",
       "      <th>18</th>\n",
       "      <td>698.8</td>\n",
       "      <td>0.09387</td>\n",
       "    </tr>\n",
       "    <tr>\n",
       "      <th>19</th>\n",
       "      <td>559.2</td>\n",
       "      <td>0.10160</td>\n",
       "    </tr>\n",
       "    <tr>\n",
       "      <th>20</th>\n",
       "      <td>563.0</td>\n",
       "      <td>0.08162</td>\n",
       "    </tr>\n",
       "    <tr>\n",
       "      <th>21</th>\n",
       "      <td>371.1</td>\n",
       "      <td>0.12270</td>\n",
       "    </tr>\n",
       "    <tr>\n",
       "      <th>22</th>\n",
       "      <td>1104.0</td>\n",
       "      <td>0.09081</td>\n",
       "    </tr>\n",
       "    <tr>\n",
       "      <th>23</th>\n",
       "      <td>545.2</td>\n",
       "      <td>0.10410</td>\n",
       "    </tr>\n",
       "    <tr>\n",
       "      <th>24</th>\n",
       "      <td>531.5</td>\n",
       "      <td>0.09714</td>\n",
       "    </tr>\n",
       "    <tr>\n",
       "      <th>25</th>\n",
       "      <td>1076.0</td>\n",
       "      <td>0.10990</td>\n",
       "    </tr>\n",
       "    <tr>\n",
       "      <th>26</th>\n",
       "      <td>201.9</td>\n",
       "      <td>0.08600</td>\n",
       "    </tr>\n",
       "    <tr>\n",
       "      <th>27</th>\n",
       "      <td>534.6</td>\n",
       "      <td>0.11580</td>\n",
       "    </tr>\n",
       "    <tr>\n",
       "      <th>28</th>\n",
       "      <td>449.3</td>\n",
       "      <td>0.10310</td>\n",
       "    </tr>\n",
       "    <tr>\n",
       "      <th>29</th>\n",
       "      <td>561.0</td>\n",
       "      <td>0.08752</td>\n",
       "    </tr>\n",
       "    <tr>\n",
       "      <th>30</th>\n",
       "      <td>427.9</td>\n",
       "      <td>0.08637</td>\n",
       "    </tr>\n",
       "    <tr>\n",
       "      <th>31</th>\n",
       "      <td>571.8</td>\n",
       "      <td>0.07685</td>\n",
       "    </tr>\n",
       "    <tr>\n",
       "      <th>32</th>\n",
       "      <td>437.6</td>\n",
       "      <td>0.08261</td>\n",
       "    </tr>\n",
       "    <tr>\n",
       "      <th>33</th>\n",
       "      <td>1033.0</td>\n",
       "      <td>0.11480</td>\n",
       "    </tr>\n",
       "    <tr>\n",
       "      <th>34</th>\n",
       "      <td>712.8</td>\n",
       "      <td>0.09056</td>\n",
       "    </tr>\n",
       "    <tr>\n",
       "      <th>35</th>\n",
       "      <td>409.0</td>\n",
       "      <td>0.09524</td>\n",
       "    </tr>\n",
       "    <tr>\n",
       "      <th>36</th>\n",
       "      <td>1152.0</td>\n",
       "      <td>0.10530</td>\n",
       "    </tr>\n",
       "    <tr>\n",
       "      <th>37</th>\n",
       "      <td>656.9</td>\n",
       "      <td>0.11370</td>\n",
       "    </tr>\n",
       "    <tr>\n",
       "      <th>38</th>\n",
       "      <td>527.2</td>\n",
       "      <td>0.08060</td>\n",
       "    </tr>\n",
       "    <tr>\n",
       "      <th>39</th>\n",
       "      <td>224.5</td>\n",
       "      <td>0.09752</td>\n",
       "    </tr>\n",
       "    <tr>\n",
       "      <th>40</th>\n",
       "      <td>311.9</td>\n",
       "      <td>0.11340</td>\n",
       "    </tr>\n",
       "    <tr>\n",
       "      <th>41</th>\n",
       "      <td>221.8</td>\n",
       "      <td>0.12430</td>\n",
       "    </tr>\n",
       "    <tr>\n",
       "      <th>42</th>\n",
       "      <td>645.7</td>\n",
       "      <td>0.10490</td>\n",
       "    </tr>\n",
       "    <tr>\n",
       "      <th>43</th>\n",
       "      <td>260.9</td>\n",
       "      <td>0.07721</td>\n",
       "    </tr>\n",
       "    <tr>\n",
       "      <th>44</th>\n",
       "      <td>499.0</td>\n",
       "      <td>0.11220</td>\n",
       "    </tr>\n",
       "    <tr>\n",
       "      <th>45</th>\n",
       "      <td>668.3</td>\n",
       "      <td>0.11720</td>\n",
       "    </tr>\n",
       "    <tr>\n",
       "      <th>46</th>\n",
       "      <td>269.4</td>\n",
       "      <td>0.10440</td>\n",
       "    </tr>\n",
       "    <tr>\n",
       "      <th>47</th>\n",
       "      <td>394.1</td>\n",
       "      <td>0.08139</td>\n",
       "    </tr>\n",
       "    <tr>\n",
       "      <th>48</th>\n",
       "      <td>250.5</td>\n",
       "      <td>0.10660</td>\n",
       "    </tr>\n",
       "    <tr>\n",
       "      <th>49</th>\n",
       "      <td>502.5</td>\n",
       "      <td>0.09831</td>\n",
       "    </tr>\n",
       "  </tbody>\n",
       "</table>\n",
       "</div>"
      ],
      "text/plain": [
       "         3        4\n",
       "0    520.0  0.10750\n",
       "1    273.9  0.10240\n",
       "2    704.4  0.10730\n",
       "3   1404.0  0.09428\n",
       "4    904.6  0.11210\n",
       "5    912.7  0.11860\n",
       "6    644.8  0.10540\n",
       "7   1094.0  0.09440\n",
       "8    732.4  0.10820\n",
       "9    955.1  0.09847\n",
       "10  1088.0  0.10640\n",
       "11   440.6  0.11090\n",
       "12   899.3  0.11970\n",
       "13  1162.0  0.09401\n",
       "14   807.2  0.10400\n",
       "15   869.5  0.09610\n",
       "16   633.0  0.09823\n",
       "17   523.8  0.08983\n",
       "18   698.8  0.09387\n",
       "19   559.2  0.10160\n",
       "20   563.0  0.08162\n",
       "21   371.1  0.12270\n",
       "22  1104.0  0.09081\n",
       "23   545.2  0.10410\n",
       "24   531.5  0.09714\n",
       "25  1076.0  0.10990\n",
       "26   201.9  0.08600\n",
       "27   534.6  0.11580\n",
       "28   449.3  0.10310\n",
       "29   561.0  0.08752\n",
       "30   427.9  0.08637\n",
       "31   571.8  0.07685\n",
       "32   437.6  0.08261\n",
       "33  1033.0  0.11480\n",
       "34   712.8  0.09056\n",
       "35   409.0  0.09524\n",
       "36  1152.0  0.10530\n",
       "37   656.9  0.11370\n",
       "38   527.2  0.08060\n",
       "39   224.5  0.09752\n",
       "40   311.9  0.11340\n",
       "41   221.8  0.12430\n",
       "42   645.7  0.10490\n",
       "43   260.9  0.07721\n",
       "44   499.0  0.11220\n",
       "45   668.3  0.11720\n",
       "46   269.4  0.10440\n",
       "47   394.1  0.08139\n",
       "48   250.5  0.10660\n",
       "49   502.5  0.09831"
      ]
     },
     "execution_count": 320,
     "metadata": {},
     "output_type": "execute_result"
    }
   ],
   "source": [
    "# data['target']\n",
    "X"
   ]
  },
  {
   "cell_type": "code",
   "execution_count": 316,
   "metadata": {},
   "outputs": [
    {
     "name": "stdout",
     "output_type": "stream",
     "text": [
      "(50, 2)\n"
     ]
    }
   ],
   "source": [
    "# load our data\n",
    "from sklearn.datasets import load_breast_cancer\n",
    "\n",
    "data = load_breast_cancer()\n",
    "X, y = pd.DataFrame(data['data'][start:n])[[3, 4]], pd.DataFrame({'y': data['target'][start:n]})\n",
    "print(X.shape)\n",
    "\n",
    "targets = data.target_names"
   ]
  },
  {
   "cell_type": "code",
   "execution_count": 317,
   "metadata": {},
   "outputs": [],
   "source": [
    "# # print(data.DESCR)\n",
    "#     :Attribute Information:\n",
    "#         - radius (mean of distances from center to points on the perimeter)\n",
    "#         - texture (standard deviation of gray-scale values)\n",
    "#         - perimeter\n",
    "#         - area  **\n",
    "#         - smoothness (local variation in radius lengths)\n",
    "#         - compactness (perimeter^2 / area - 1.0)\n",
    "#         - concavity (severity of concave portions of the contour)\n",
    "#         - concave points (number of concave portions of the contour)\n",
    "#         - symmetry **\n",
    "#         - fractal dimension (\"coastline approximation\" - 1)\n"
   ]
  },
  {
   "cell_type": "code",
   "execution_count": 318,
   "metadata": {
    "scrolled": true
   },
   "outputs": [],
   "source": [
    "# sns.pairplot(pd.DataFrame(X))"
   ]
  },
  {
   "cell_type": "code",
   "execution_count": 319,
   "metadata": {},
   "outputs": [
    {
     "data": {
      "text/plain": [
       "<AxesSubplot:xlabel='3', ylabel='4'>"
      ]
     },
     "execution_count": 319,
     "metadata": {},
     "output_type": "execute_result"
    },
    {
     "data": {
      "image/png": "[encoded data removed]",
      "text/plain": [
       "<Figure size 432x288 with 2 Axes>"
      ]
     },
     "metadata": {
      "needs_background": "light"
     },
     "output_type": "display_data"
    }
   ],
   "source": [
    "# concat X and y into single dataframe for plotting (so we can find best relationship for visual scatter)\n",
    "df = pd.concat([X, y], axis=1)\n",
    "df.plot.scatter(x=3, y=4, c='y', colormap='viridis')"
   ]
  },
  {
   "cell_type": "code",
   "execution_count": 306,
   "metadata": {},
   "outputs": [],
   "source": [
    "from sklearn.model_selection import train_test_split\n",
    "X_train, X_test, y_train, y_test = train_test_split(X, y, test_size=0.7, random_state=42)"
   ]
  },
  {
   "cell_type": "code",
   "execution_count": 321,
   "metadata": {},
   "outputs": [
    {
     "name": "stdout",
     "output_type": "stream",
     "text": [
      "Class imbalance: 0.62\n"
     ]
    },
    {
     "data": {
      "text/plain": [
       "y\n",
       "0    31\n",
       "1    19\n",
       "dtype: int64"
      ]
     },
     "execution_count": 321,
     "metadata": {},
     "output_type": "execute_result"
    }
   ],
   "source": [
    "# Let's check imbalances in our data\n",
    "print(f\"Class imbalance: {str(y[y==0].dropna().shape[0] / y.shape[0])}\")\n",
    "y.value_counts()"
   ]
  },
  {
   "cell_type": "code",
   "execution_count": 327,
   "metadata": {},
   "outputs": [],
   "source": [
    "from sklearn.linear_model import LogisticRegression\n",
    "from sklearn.neighbors import KNeighborsClassifier\n",
    "\n",
    "log_model = LogisticRegression()\n",
    "log_model.fit(X_train, y_train.values.ravel())\n",
    "# y_pred_log = log_model.predict(X_test)\n",
    "# y_pred = clf.predict(X_test)  # default threshold is 0.5\n",
    "y_pred_log = (log_model.predict_proba(X_test)[:,1] >= 0.91).astype(bool) "
   ]
  },
  {
   "cell_type": "markdown",
   "metadata": {},
   "source": [
    "Accuracy"
   ]
  },
  {
   "cell_type": "code",
   "execution_count": 328,
   "metadata": {},
   "outputs": [
    {
     "name": "stdout",
     "output_type": "stream",
     "text": [
      "Accuracy score (Logistic):  0.8571428571428571\n"
     ]
    }
   ],
   "source": [
    "from sklearn.metrics import accuracy_score\n",
    "log_score = accuracy_score(y_test, y_pred_log)\n",
    "\n",
    "print(\"Accuracy score (Logistic): \", log_score)"
   ]
  },
  {
   "cell_type": "code",
   "execution_count": 329,
   "metadata": {},
   "outputs": [
    {
     "data": {
      "text/plain": [
       "array([[19,  3],\n",
       "       [ 2, 11]])"
      ]
     },
     "execution_count": 329,
     "metadata": {},
     "output_type": "execute_result"
    }
   ],
   "source": [
    "from sklearn.metrics import confusion_matrix\n",
    "confusion_matrix(y_test, y_pred_log)"
   ]
  },
  {
   "cell_type": "code",
   "execution_count": 330,
   "metadata": {},
   "outputs": [
    {
     "name": "stdout",
     "output_type": "stream",
     "text": [
      "              precision    recall  f1-score   support\n",
      "\n",
      "   malignant       0.90      0.86      0.88        22\n",
      "      benign       0.79      0.85      0.81        13\n",
      "\n",
      "    accuracy                           0.86        35\n",
      "   macro avg       0.85      0.85      0.85        35\n",
      "weighted avg       0.86      0.86      0.86        35\n",
      "\n"
     ]
    }
   ],
   "source": [
    "from sklearn.metrics import classification_report\n",
    "print(classification_report(y_test, y_pred_log, target_names=targets))  # logistic classification report"
   ]
  },
  {
   "cell_type": "code",
   "execution_count": 331,
   "metadata": {},
   "outputs": [
    {
     "data": {
      "text/plain": [
       "<sklearn.metrics._plot.roc_curve.RocCurveDisplay at 0x7fe09cde6e50>"
      ]
     },
     "execution_count": 331,
     "metadata": {},
     "output_type": "execute_result"
    },
    {
     "data": {
      "image/png": "[encoded data removed]",
      "text/plain": [
       "<Figure size 432x288 with 1 Axes>"
      ]
     },
     "metadata": {
      "needs_background": "light"
     },
     "output_type": "display_data"
    }
   ],
   "source": [
    "from sklearn.metrics import plot_roc_curve\n",
    "plot_roc_curve(log_model, X_test, y_test)"
   ]
  },
  {
   "cell_type": "code",
   "execution_count": null,
   "metadata": {},
   "outputs": [],
   "source": []
  }
 ],
 "metadata": {
  "kernelspec": {
   "display_name": "Python 3",
   "language": "python",
   "name": "python3"
  },
  "language_info": {
   "codemirror_mode": {
    "name": "ipython",
    "version": 3
   },
   "file_extension": ".py",
   "mimetype": "text/x-python",
   "name": "python",
   "nbconvert_exporter": "python",
   "pygments_lexer": "ipython3",
   "version": "3.8.5"
  }
 },
 "nbformat": 4,
 "nbformat_minor": 4
}
