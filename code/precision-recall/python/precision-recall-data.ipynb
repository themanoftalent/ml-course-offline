{
 "cells": [
  {
   "cell_type": "code",
   "execution_count": 3,
   "metadata": {},
   "outputs": [],
   "source": [
    "import pandas as pd\n",
    "from sklearn.metrics import f1_score\n",
    "import numpy as np # linear algebra\n",
    "import pandas as pd # data processing\n",
    "import seaborn as sns # data visualization library  \n",
    "import matplotlib.pyplot as plt"
   ]
  },
  {
   "cell_type": "code",
   "execution_count": 4,
   "metadata": {},
   "outputs": [],
   "source": [
    "scatterData = scatterData = [\n",
    "  {\n",
    "    'outcome': \"Negative\",\n",
    "    'weight': \"9\",\n",
    "  },\n",
    "  {\n",
    "    'outcome': \"Negative\",\n",
    "    'weight': \"9\",\n",
    "  },\n",
    "  {\n",
    "    'outcome': \"Negative\",\n",
    "    'weight': \"7.9\",\n",
    "  },\n",
    "  {\n",
    "    'outcome': \"Negative\",\n",
    "    'weight': \"8\",\n",
    "  },\n",
    "  {\n",
    "    'outcome': \"Negative\",\n",
    "    'weight': \"7\",\n",
    "  },\n",
    "  {\n",
    "    'outcome': \"Negative\",\n",
    "    'weight': \"7\",\n",
    "  },\n",
    "  {\n",
    "    'outcome': \"Negative\",\n",
    "    'weight': \"7\",\n",
    "  },\n",
    "  {\n",
    "    'outcome': \"Negative\",\n",
    "    'weight': \"7\",\n",
    "  },\n",
    "  {\n",
    "    'outcome': \"Negative\",\n",
    "    'weight': \"7\",\n",
    "  },\n",
    "  {\n",
    "    'outcome': \"Negative\",\n",
    "    'weight': \"7\",\n",
    "  },\n",
    "  {\n",
    "    'outcome': \"Negative\",\n",
    "    'weight': \"4\",\n",
    "  },\n",
    "  {\n",
    "    'outcome': \"Negative\",\n",
    "    'weight': \"4.1\",\n",
    "  },\n",
    "  {\n",
    "    'outcome': \"Negative\",\n",
    "    'weight': \"4\",\n",
    "  },\n",
    "  {\n",
    "    'outcome': \"Negative\",\n",
    "    'weight': \"4.1\",\n",
    "  },\n",
    "  {\n",
    "    'outcome': \"Negative\",\n",
    "    'weight': \"3.9\",\n",
    "  },\n",
    "  {\n",
    "    'outcome': \"Negative\",\n",
    "    'weight': \"4.2\",\n",
    "  },\n",
    "  {\n",
    "    'outcome': \"Negative\",\n",
    "    'weight': \"4\",\n",
    "  },\n",
    "  {\n",
    "    'outcome': \"Negative\",\n",
    "    'weight': \"12\",\n",
    "  },\n",
    "  {\n",
    "    'outcome': \"Negative\",\n",
    "    'weight': \"3\",\n",
    "  },\n",
    "  {\n",
    "    'outcome': \"Negative\",\n",
    "    'weight': \"3\",\n",
    "  },\n",
    "  {\n",
    "    'outcome': \"Negative\",\n",
    "    'weight': \"3\",\n",
    "  },\n",
    "  {\n",
    "    'outcome': \"Negative\",\n",
    "    'weight': \"3\",\n",
    "  },\n",
    "  {\n",
    "    'outcome': \"Negative\",\n",
    "    'weight': \"3\",\n",
    "  },\n",
    "  {\n",
    "    'outcome': \"Negative\",\n",
    "    'weight': \"3\",\n",
    "  },\n",
    "  {\n",
    "    'outcome': \"Negative\",\n",
    "    'weight': \"3\",\n",
    "  },\n",
    "  {\n",
    "    'outcome': \"Negative\",\n",
    "    'weight': \"0.4\",\n",
    "  },\n",
    "  {\n",
    "    'outcome': \"Positive\",\n",
    "    'weight': \"14.5\",\n",
    "  },\n",
    "  {\n",
    "    'outcome': \"Positive\",\n",
    "    'weight': \"11.6\",\n",
    "  },\n",
    "  {\n",
    "    'outcome': \"Positive\",\n",
    "    'weight': \"9\",\n",
    "  },\n",
    "  {\n",
    "    'outcome': \"Positive\",\n",
    "    'weight': \"8\",\n",
    "  },\n",
    "  {\n",
    "    'outcome': \"Positive\",\n",
    "    'weight': \"8\",\n",
    "  },\n",
    "  {\n",
    "    'outcome': \"Positive\",\n",
    "    'weight': \"8.2\",\n",
    "  },\n",
    "  {\n",
    "    'outcome': \"Positive\",\n",
    "    'weight': \"6\",\n",
    "  },\n",
    "  {\n",
    "    'outcome': \"Positive\",\n",
    "    'weight': \"6\",\n",
    "  },\n",
    "];"
   ]
  },
  {
   "cell_type": "code",
   "execution_count": 6,
   "metadata": {},
   "outputs": [],
   "source": [
    "df = pd.DataFrame(scatterData)"
   ]
  },
  {
   "cell_type": "code",
   "execution_count": 14,
   "metadata": {},
   "outputs": [],
   "source": [
    "df['weight'] = pd.to_numeric(df['weight'])"
   ]
  },
  {
   "cell_type": "code",
   "execution_count": 15,
   "metadata": {},
   "outputs": [
    {
     "data": {
      "text/plain": [
       "0.4"
      ]
     },
     "execution_count": 15,
     "metadata": {},
     "output_type": "execute_result"
    }
   ],
   "source": [
    "df.weight.min()"
   ]
  },
  {
   "cell_type": "code",
   "execution_count": 16,
   "metadata": {},
   "outputs": [
    {
     "data": {
      "text/plain": [
       "14.5"
      ]
     },
     "execution_count": 16,
     "metadata": {},
     "output_type": "execute_result"
    }
   ],
   "source": [
    "df.weight.max()"
   ]
  },
  {
   "cell_type": "code",
   "execution_count": null,
   "metadata": {},
   "outputs": [],
   "source": []
  }
 ],
 "metadata": {
  "kernelspec": {
   "display_name": "Python 3",
   "language": "python",
   "name": "python3"
  },
  "language_info": {
   "codemirror_mode": {
    "name": "ipython",
    "version": 3
   },
   "file_extension": ".py",
   "mimetype": "text/x-python",
   "name": "python",
   "nbconvert_exporter": "python",
   "pygments_lexer": "ipython3",
   "version": "3.8.5"
  }
 },
 "nbformat": 4,
 "nbformat_minor": 4
}
