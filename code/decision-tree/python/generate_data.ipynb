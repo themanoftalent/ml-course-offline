{
 "cells": [
  {
   "cell_type": "code",
   "execution_count": 1,
   "metadata": {},
   "outputs": [],
   "source": [
    "import json\n",
    "import networkx\n",
    "import pydot\n",
    "\n",
    "import numpy as np\n",
    "import pandas as pd\n",
    "\n",
    "from networkx.readwrite import json_graph\n",
    "from sklearn.datasets import load_iris\n",
    "from sklearn.metrics import accuracy_score\n",
    "from sklearn.model_selection import train_test_split\n",
    "from sklearn.tree import DecisionTreeClassifier, export_graphviz"
   ]
  },
  {
   "cell_type": "code",
   "execution_count": 2,
   "metadata": {},
   "outputs": [],
   "source": [
    "def dot2json(file_in):\n",
    "    \"\"\"\n",
    "    Translate .dot file to .json output (required for javascript consumption).\n",
    "    \"\"\"\n",
    "    graph_netx = networkx.drawing.nx_pydot.read_dot(file_in)\n",
    "    graph_json = json_graph.node_link_data( graph_netx )\n",
    "    return json_graph.node_link_data(graph_netx)"
   ]
  },
  {
   "cell_type": "code",
   "execution_count": 3,
   "metadata": {},
   "outputs": [
    {
     "data": {
      "text/plain": [
       "(150, 4)"
      ]
     },
     "metadata": {},
     "output_type": "display_data"
    },
    {
     "data": {
      "text/plain": [
       "(150,)"
      ]
     },
     "metadata": {},
     "output_type": "display_data"
    }
   ],
   "source": [
    "data = load_iris()\n",
    "X = data.data\n",
    "y = data.target\n",
    "display(X.shape, y.shape)"
   ]
  },
  {
   "cell_type": "code",
   "execution_count": 4,
   "metadata": {},
   "outputs": [],
   "source": [
    "X_train, X_test, y_train, y_test = train_test_split(X, y, random_state = 50, test_size = 0.25)"
   ]
  },
  {
   "cell_type": "code",
   "execution_count": 325,
   "metadata": {},
   "outputs": [
    {
     "data": {
      "text/plain": [
       "DecisionTreeClassifier(max_depth=4)"
      ]
     },
     "execution_count": 325,
     "metadata": {},
     "output_type": "execute_result"
    }
   ],
   "source": [
    "clf = DecisionTreeClassifier(max_depth=4)\n",
    "clf.fit(X_train,y_train)"
   ]
  },
  {
   "cell_type": "code",
   "execution_count": 326,
   "metadata": {},
   "outputs": [],
   "source": [
    "y_pred = clf.predict(X_test)"
   ]
  },
  {
   "cell_type": "code",
   "execution_count": 327,
   "metadata": {},
   "outputs": [
    {
     "name": "stdout",
     "output_type": "stream",
     "text": [
      "Accuracy Score on train data (using Default criterionas gini):  1.0\n",
      "Accuracy Score on test data (using Default criterionas gini):  0.9473684210526315\n"
     ]
    }
   ],
   "source": [
    "print('Accuracy Score on train data (using Default criterionas gini): ', accuracy_score(y_true=y_train, y_pred=clf.predict(X_train)))\n",
    "print('Accuracy Score on test data (using Default criterionas gini): ', accuracy_score(y_true=y_test, y_pred=y_pred))"
   ]
  },
  {
   "cell_type": "code",
   "execution_count": 328,
   "metadata": {},
   "outputs": [
    {
     "name": "stdout",
     "output_type": "stream",
     "text": [
      "Accuracy Score on train data (using Default criterion as Entropy):  1.0\n",
      "Accuracy Score on test data (using Default criterion as Entropy):  0.9473684210526315\n"
     ]
    }
   ],
   "source": [
    "# Changing the Criterion to Entropy\n",
    "clf_entropy = DecisionTreeClassifier(criterion = 'entropy')\n",
    "clf_entropy.fit(X_train, y_train)\n",
    "y_pred_entropy =  clf_entropy.predict(X_test)\n",
    "print('Accuracy Score on train data (using Default criterion as Entropy): ', accuracy_score(y_true=y_train, y_pred =clf_entropy.predict(X_train)))\n",
    "print('Accuracy Score on test data (using Default criterion as Entropy): ', accuracy_score(y_true=y_test, y_pred =y_pred_entropy))"
   ]
  },
  {
   "cell_type": "code",
   "execution_count": 329,
   "metadata": {},
   "outputs": [],
   "source": [
    "# # export decisiont tree rules to .dot graph\n",
    "# dotfile_name = 'dtree2.dot'\n",
    "# dotfile = open(dotfile_name, 'w')\n",
    "# export_graphviz(clf, out_file = dotfile, filled=True, rounded=True,\n",
    "#                 special_characters=True,feature_names = data.feature_names,class_names=data.target_names)\n",
    "# dotfile.close()\n",
    "# json_data = dot2json(dotfile_name)\n",
    "# jsonfile_name = 'treedata.json'\n",
    "# with open(jsonfile_name, 'w') as f:\n",
    "#     json.dump(json_data, f)"
   ]
  },
  {
   "cell_type": "code",
   "execution_count": 330,
   "metadata": {},
   "outputs": [
    {
     "name": "stdout",
     "output_type": "stream",
     "text": [
      "|--- feature_2 <= 2.60\n",
      "|   |--- class: 0\n",
      "|--- feature_2 >  2.60\n",
      "|   |--- feature_3 <= 1.65\n",
      "|   |   |--- feature_2 <= 5.00\n",
      "|   |   |   |--- class: 1\n",
      "|   |   |--- feature_2 >  5.00\n",
      "|   |   |   |--- feature_0 <= 6.05\n",
      "|   |   |   |   |--- class: 1\n",
      "|   |   |   |--- feature_0 >  6.05\n",
      "|   |   |   |   |--- class: 2\n",
      "|   |--- feature_3 >  1.65\n",
      "|   |   |--- feature_2 <= 4.85\n",
      "|   |   |   |--- feature_1 <= 3.10\n",
      "|   |   |   |   |--- class: 2\n",
      "|   |   |   |--- feature_1 >  3.10\n",
      "|   |   |   |   |--- class: 1\n",
      "|   |   |--- feature_2 >  4.85\n",
      "|   |   |   |--- class: 2\n",
      "\n"
     ]
    }
   ],
   "source": [
    "from sklearn.tree import export_text\n",
    "print(export_text(clf))\n",
    "[ 2 -2  3  2 -2  0 -2 -2  2  1 -2 -2 -2]"
   ]
  },
  {
   "cell_type": "code",
   "execution_count": 331,
   "metadata": {},
   "outputs": [],
   "source": [
    "# sklearn PR version\n",
    "def export_dict(decision_tree, feature_names=None):\n",
    "    js = {}\n",
    "    def node_to_str(tree, node_id, criterion):\n",
    "\n",
    "        if not isinstance(criterion, six.string_types):\n",
    "            criterion = \"impurity\"\n",
    "        value = tree.tree_.value[node_id]\n",
    "        if tree.tree_.n_outputs == 1:\n",
    "            value = value[0, :]\n",
    "        if tree.tree_.children_left[node_id] == sklearn.tree._tree.TREE_LEAF:\n",
    "\n",
    "            return {\"id\": str(node_id),\n",
    "#                     \"criterion\": criterion,\n",
    "                    \"impurity\": str(tree.tree_.impurity[node_id]),\n",
    "                    \"samples\": str(tree.tree_.n_node_samples[node_id]),\n",
    "                    \"value\": str(value),\n",
    "                   \"class\":  str(value.argmax(axis=0))\n",
    "                   } \n",
    "        else:\n",
    "            if feature_names is not None:\n",
    "                feature = feature_names[tree.tree_.feature[node_id]]\n",
    "            else:\n",
    "                feature = tree.tree_.feature[node_id]\n",
    "            return {\"id\": str(node_id),\n",
    "                    \"rule\": f\"{feature} <= {tree.tree_.threshold[node_id]:.4f}\",\n",
    "                    criterion: str(tree.tree_.impurity[node_id]),\n",
    "                    \"samples\": str(tree.tree_.n_node_samples[node_id])\n",
    "                   } \n",
    "            \n",
    "    def recurse(tree, node_id, criterion, parent=None):\n",
    "        left_child = tree.tree_.children_left[node_id]\n",
    "        right_child = tree.tree_.children_right[node_id]\n",
    "        js = node_to_str(tree, node_id, criterion)\n",
    "        if left_child != sklearn.tree._tree.TREE_LEAF:\n",
    "            js[\"left\"] = recurse(tree, left_child, criterion=criterion, parent=node_id)\n",
    "            js['right'] = recurse(tree,right_child,criterion=criterion,parent=node_id)\n",
    "            \n",
    "        return js\n",
    "    \n",
    "    \n",
    "    if isinstance(decision_tree, sklearn.tree.DecisionTreeClassifier):\n",
    "        js = recurse(decision_tree, 0, criterion=\"impurity\")\n",
    "    else:\n",
    "        js = recurse(decision_tree.tree_, 0, criterion=decision_tree.criterion)\n",
    "\n",
    "    return js "
   ]
  },
  {
   "cell_type": "code",
   "execution_count": 360,
   "metadata": {},
   "outputs": [],
   "source": [
    "#d3 version\n",
    "def export_dict(decision_tree, feature_names=None):\n",
    "    js = {}\n",
    "    def node2str(tree, node_id, criterion):\n",
    "\n",
    "        if not isinstance(criterion, six.string_types):\n",
    "            criterion = \"impurity\"\n",
    "        value = tree.tree_.value[node_id]\n",
    "        if tree.tree_.n_outputs == 1:\n",
    "            value = value[0, :]\n",
    "        if tree.tree_.children_left[node_id] == sklearn.tree._tree.TREE_LEAF:\n",
    "            # if end node\n",
    "            return {\"id\": str(node_id),\n",
    "                    \"impurity\": str(tree.tree_.impurity[node_id]),\n",
    "                    \"samples\": str(tree.tree_.n_node_samples[node_id]),\n",
    "                    \"value\": str(value),\n",
    "                   \"class\":  str(value.argmax(axis=0))\n",
    "                   } \n",
    "        else:\n",
    "            if feature_names is not None:\n",
    "                feature = feature_names[tree.tree_.feature[node_id]]\n",
    "            else:\n",
    "                feature = tree.tree_.feature[node_id]\n",
    "            return {\"id\": str(node_id),\n",
    "                    'children':[],\n",
    "                    \"name\": f\"{feature} <= {tree.tree_.threshold[node_id]:.4f}\",\n",
    "                    criterion: str(tree.tree_.impurity[node_id]),\n",
    "                    \"samples\": str(tree.tree_.n_node_samples[node_id])\n",
    "                   } \n",
    "            \n",
    "    def recurse(tree, node_id, criterion, parent=None):\n",
    "        left_child = tree.tree_.children_left[node_id]\n",
    "        right_child = tree.tree_.children_right[node_id]\n",
    "        js = node2str(tree, node_id, criterion)\n",
    "        # if not end node, append left and right to children\n",
    "        if left_child != sklearn.tree._tree.TREE_LEAF: \n",
    "            js['children'].append(recurse(tree, left_child, criterion=criterion, parent=node_id))\n",
    "            js['children'].append(recurse(tree, right_child,criterion=criterion,parent=node_id))\n",
    "        return js\n",
    "    \n",
    "    \n",
    "    if isinstance(decision_tree, sklearn.tree.DecisionTreeClassifier):\n",
    "        js = recurse(decision_tree, 0, criterion=\"impurity\")\n",
    "    else:\n",
    "        js = recurse(decision_tree.tree_, 0, criterion=decision_tree.criterion)\n",
    "\n",
    "    return js"
   ]
  },
  {
   "cell_type": "code",
   "execution_count": 361,
   "metadata": {},
   "outputs": [
    {
     "name": "stdout",
     "output_type": "stream",
     "text": [
      "cols {0: 'sepal length (cm)', 1: 'sepal width (cm)', 2: 'petal length (cm)', 3: 'petal width (cm)'}\n",
      "{'children': [{'class': '0',\n",
      "            'id': '1',\n",
      "            'impurity': '0.0',\n",
      "            'samples': '39',\n",
      "            'self': '0',\n",
      "            'value': '[39.  0.  0.]'},\n",
      "            {'children': [{'children': [{'class': '1',\n",
      "                                    'id': '4',\n",
      "                                    'impurity': '0.0',\n",
      "                                    'samples': '33',\n",
      "                                    'self': '1',\n",
      "                                    'value': '[ 0. 33.  0.]'},\n",
      "                                    {'children': [{'class': '1',\n",
      "                                                'id': '6',\n",
      "                                                'impurity': '0.0',\n",
      "                                                'samples': '1',\n",
      "                                                'self': '1',\n",
      "                                                'value': '[0. 1. 0.]'},\n",
      "                                                {'class': '2',\n",
      "                                                'id': '7',\n",
      "                                                'impurity': '0.0',\n",
      "                                                'samples': '3',\n",
      "                                                'self': '2',\n",
      "                                                'value': '[0. 0. 3.]'}],\n",
      "                                    'id': '5',\n",
      "                                    'impurity': '0.375',\n",
      "                                    'name': 'sepal length (cm) <= 6.0500',\n",
      "                                    'samples': '4'}],\n",
      "                        'id': '3',\n",
      "                        'impurity': '0.1490138787436085',\n",
      "                        'name': 'petal length (cm) <= 5.0000',\n",
      "                        'samples': '37'},\n",
      "                        {'children': [{'children': [{'class': '2',\n",
      "                                                'id': '10',\n",
      "                                                'impurity': '0.0',\n",
      "                                                'samples': '3',\n",
      "                                                'self': '2',\n",
      "                                                'value': '[0. 0. 3.]'},\n",
      "                                                {'class': '1',\n",
      "                                                'id': '11',\n",
      "                                                'impurity': '0.0',\n",
      "                                                'samples': '1',\n",
      "                                                'self': '1',\n",
      "                                                'value': '[0. 1. 0.]'}],\n",
      "                                    'id': '9',\n",
      "                                    'impurity': '0.375',\n",
      "                                    'name': 'sepal width (cm) <= 3.1000',\n",
      "                                    'samples': '4'},\n",
      "                                    {'class': '2',\n",
      "                                    'id': '12',\n",
      "                                    'impurity': '0.0',\n",
      "                                    'samples': '32',\n",
      "                                    'self': '2',\n",
      "                                    'value': '[ 0.  0. 32.]'}],\n",
      "                        'id': '8',\n",
      "                        'impurity': '0.054012345679012363',\n",
      "                        'name': 'petal length (cm) <= 4.8500',\n",
      "                        'samples': '36'}],\n",
      "            'id': '2',\n",
      "            'impurity': '0.4991555638956652',\n",
      "            'name': 'petal width (cm) <= 1.6500',\n",
      "            'samples': '73'}],\n",
      "'id': '0',\n",
      "'impurity': '0.6659757653061225',\n",
      "'name': 'petal length (cm) <= 2.6000',\n",
      "'samples': '112'}\n"
     ]
    }
   ],
   "source": [
    "cols = dict()\n",
    "for i, c in enumerate(data.feature_names):\n",
    "    cols[i] = c\n",
    "tt = export_dict(clf, feature_names=cols)\n",
    "# print(tt)\n",
    "import pprint\n",
    "pp = pprint.PrettyPrinter(indent=0)\n",
    "pp.pprint(tt)\n",
    "\n",
    "# save to json\n",
    "jsonfile_name = 'treedata.json'\n",
    "with open(jsonfile_name, 'w') as f:\n",
    "    json.dump(tt, f)"
   ]
  },
  {
   "cell_type": "code",
   "execution_count": 335,
   "metadata": {},
   "outputs": [],
   "source": [
    "def viz(decision_tree, feature_names=None):\n",
    "    js = \"\"\n",
    "    def node_to_str(tree, node_id, criterion):\n",
    "\n",
    "        if not isinstance(criterion, six.string_types):\n",
    "            criterion = \"impurity\"\n",
    "        value = tree.tree_.value[node_id]\n",
    "        if tree.tree_.n_outputs == 1:\n",
    "            value = value[0, :]\n",
    "        if tree.tree_.children_left[node_id] == sklearn.tree._tree.TREE_LEAF:\n",
    "\n",
    "            return '{\"id\": \"%s\", \"criterion\": \"%s\", \"impurity\": \"%s\", \"samples\": \"%s\", \"value\": \"%s\"}' \\\n",
    "                 % (node_id, \n",
    "                    criterion,\n",
    "                    tree.tree_.impurity[node_id],\n",
    "                    tree.tree_.n_node_samples[node_id],\n",
    "                    value)\n",
    "        else:\n",
    "            if feature_names is not None:\n",
    "                feature = feature_names[tree.tree_.feature[node_id]]\n",
    "            else:\n",
    "                feature = tree.tree_.feature[node_id]\n",
    "            return '\"id\": \"%s\", \"rule\": \"%s <= %.4f\", \"%s\": \"%s\", \"samples\": \"%s\"' \\\n",
    "                 % (node_id, \n",
    "                    feature,\n",
    "                    tree.tree_.threshold[node_id],\n",
    "                    criterion,\n",
    "                    tree.tree_.impurity[node_id],\n",
    "                    tree.tree_.n_node_samples[node_id])\n",
    "            \n",
    "    def recurse(tree, node_id, criterion, parent=None, depth=0):\n",
    "        tabs = \"  \" * depth\n",
    "        left_child = tree.tree_.children_left[node_id]\n",
    "        right_child = tree.tree_.children_right[node_id]\n",
    "        js = js + \"\\n\" + \\\n",
    "             tabs + \"{\\n\" + \\\n",
    "             tabs + \"  \" + node_to_str(tree, node_id, criterion)\n",
    "        if left_child != sklearn.tree._tree.TREE_LEAF and depth < 6:\n",
    "            js = js + \",\\n\" + \\\n",
    "               tabs + '  \"left\": ' + \\\n",
    "            recurse(tree, \\\n",
    "                       left_child, \\\n",
    "                       criterion=criterion, \\\n",
    "                       parent=node_id, \\\n",
    "                       depth=depth + 1) + \",\\n\" + \\\n",
    "               tabs + '  \"right\": ' + \\\n",
    "               recurse(tree, \\\n",
    "                       right_child, \\\n",
    "                       criterion=criterion, \\\n",
    "                       parent=node_id,\n",
    "                       depth=depth + 1)\n",
    "\n",
    "        js = js + tabs + \"\\n\" + \\\n",
    "             tabs + \"}\"\n",
    "        \n",
    "        return js\n",
    "    if isinstance(decision_tree, sklearn.tree.DecisionTreeClassifier):\n",
    "        js = js + recurse(decision_tree, 0, criterion=\"impurity\")\n",
    "    else:\n",
    "        js = js + recurse(decision_tree.tree_, 0, criterion=decision_tree.criterion)\n",
    "\n",
    "    return js"
   ]
  },
  {
   "cell_type": "code",
   "execution_count": 363,
   "metadata": {},
   "outputs": [
    {
     "data": {
      "text/plain": [
       "array(['setosa', 'versicolor', 'virginica'], dtype='<U10')"
      ]
     },
     "execution_count": 363,
     "metadata": {},
     "output_type": "execute_result"
    }
   ],
   "source": [
    "data.target_names"
   ]
  },
  {
   "cell_type": "code",
   "execution_count": null,
   "metadata": {},
   "outputs": [],
   "source": []
  }
 ],
 "metadata": {
  "kernelspec": {
   "display_name": "Python 3",
   "language": "python",
   "name": "python3"
  },
  "language_info": {
   "codemirror_mode": {
    "name": "ipython",
    "version": 3
   },
   "file_extension": ".py",
   "mimetype": "text/x-python",
   "name": "python",
   "nbconvert_exporter": "python",
   "pygments_lexer": "ipython3",
   "version": "3.8.5"
  }
 },
 "nbformat": 4,
 "nbformat_minor": 4
}
