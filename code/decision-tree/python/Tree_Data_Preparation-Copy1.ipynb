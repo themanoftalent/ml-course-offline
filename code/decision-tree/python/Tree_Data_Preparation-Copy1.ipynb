{
 "cells": [
  {
   "cell_type": "markdown",
   "metadata": {},
   "source": [
    "# Tree Data Preparation for Tree Explainer\n",
    "\n",
    "lucsan - June 2021"
   ]
  },
  {
   "cell_type": "code",
   "execution_count": 83,
   "metadata": {},
   "outputs": [],
   "source": [
    "import pandas as pd\n",
    "import re\n",
    "import numpy as np\n",
    "import six\n",
    "import json\n",
    "import pprint\n",
    "\n",
    "import sklearn\n",
    "from sklearn import tree\n",
    "from sklearn.model_selection import GridSearchCV\n",
    "from sklearn.tree import export_text\n",
    "\n",
    "import matplotlib.pyplot as plt\n",
    "%matplotlib inline"
   ]
  },
  {
   "cell_type": "markdown",
   "metadata": {},
   "source": [
    "## Read raw data and prepare it"
   ]
  },
  {
   "cell_type": "code",
   "execution_count": 27,
   "metadata": {},
   "outputs": [
    {
     "data": {
      "text/plain": [
       "42226"
      ]
     },
     "execution_count": 27,
     "metadata": {},
     "output_type": "execute_result"
    }
   ],
   "source": [
    "df = pd.read_csv(\"14.08.07-annual-tree-data-file.csv\")\n",
    "len(df)"
   ]
  },
  {
   "cell_type": "code",
   "execution_count": 28,
   "metadata": {},
   "outputs": [],
   "source": [
    "keep_cols = [\"Height\", \"Diameter\", \"Age Class\", \"Ward\", \"Species\"]\n",
    "df = df[keep_cols]"
   ]
  },
  {
   "cell_type": "code",
   "execution_count": 29,
   "metadata": {},
   "outputs": [],
   "source": [
    "# Util functions\n",
    "\n",
    "def strip_line_break(row):\n",
    "    row = row.strip()\n",
    "    if row == \"\":\n",
    "        row = None\n",
    "    return row\n",
    "    \n",
    "def strip_empty_space(row):\n",
    "    if re.match(r\"\\s+\", row):\n",
    "        return None\n",
    "    else:\n",
    "        return row\n",
    "    \n",
    "def strip_measure(row):\n",
    "    regex = r\"(\\d+\\.?\\d?)(\\w+)\"\n",
    "    match = re.findall(regex, row)[0]\n",
    "    if match[1] == \"m\":\n",
    "        return float(match[0])\n",
    "    elif match[1] == \"cm\":\n",
    "        return float(match[0])/100\n",
    "    else:\n",
    "        print(row)\n",
    "        \n",
    "def extract_tree_family(row):\n",
    "    return row.split()[0]"
   ]
  },
  {
   "cell_type": "code",
   "execution_count": 30,
   "metadata": {},
   "outputs": [],
   "source": [
    "df = df.dropna(how=\"any\")\n",
    "df[\"Ward\"] = df[\"Ward\"].apply(strip_empty_space)\n",
    "df = df.dropna(how=\"any\")\n",
    "df[\"Ward\"] = df[\"Ward\"].apply(strip_line_break)\n",
    "df[\"Ward\"] = df[\"Ward\"].apply(lambda row: row[:-4])"
   ]
  },
  {
   "cell_type": "code",
   "execution_count": 31,
   "metadata": {},
   "outputs": [],
   "source": [
    "df[\"Age Class\"] = df[\"Age Class\"].apply(strip_empty_space)\n",
    "df = df.dropna(how=\"any\")\n",
    "df[\"Age Class\"] = df[\"Age Class\"].apply(strip_line_break)\n",
    "df[\"Age Class\"] = df[\"Age Class\"].apply(lambda r: None if r==\"N/A\" else r)\n",
    "df = df.dropna(how=\"any\")"
   ]
  },
  {
   "cell_type": "code",
   "execution_count": 32,
   "metadata": {},
   "outputs": [],
   "source": [
    "df = df.dropna(how=\"any\")\n",
    "df[\"Species\"] = df.Species.apply(strip_line_break)\n",
    "df = df.dropna(how=\"any\")"
   ]
  },
  {
   "cell_type": "code",
   "execution_count": 33,
   "metadata": {},
   "outputs": [],
   "source": [
    "df[\"Height\"] = df.Height.apply(strip_measure)\n",
    "df[\"Diameter\"] = df.Diameter.apply(strip_measure)"
   ]
  },
  {
   "cell_type": "code",
   "execution_count": 34,
   "metadata": {},
   "outputs": [],
   "source": [
    "df[\"Family\"] = df.Species.apply(extract_tree_family)\n",
    "# Remove some erroneous family names\n",
    "wrong_family = [\"Other\", \"Mixed\", \"Void\", \"Various\", \"Vacant\"]\n",
    "df = df[~df.Family.isin(wrong_family)]\n",
    "df[\"Family\"] = df.Family.apply(lambda r: \"Liquidamber\" if r==\"Liquidambar\" else r)"
   ]
  },
  {
   "cell_type": "code",
   "execution_count": 35,
   "metadata": {},
   "outputs": [],
   "source": [
    "# Add the counts of species and families as columns\n",
    "\n",
    "dict_counts_species = df.Species.value_counts().to_dict()\n",
    "dict_counts_family = df.Family.value_counts().to_dict()\n",
    "\n",
    "df[\"num_examples_species\"] = df.Species.apply(lambda r: dict_counts_species[r])\n",
    "df[\"num_examples_family\"] = df.Family.apply(lambda r: dict_counts_family[r])"
   ]
  },
  {
   "cell_type": "code",
   "execution_count": 36,
   "metadata": {},
   "outputs": [],
   "source": [
    "# Add the counts of families and age classes\n",
    "\n",
    "dfg = df.groupby([\"Family\", \"Age Class\"]).agg({\"Height\": [\"mean\", \"std\"], \n",
    "                                         \"Diameter\": [\"mean\", \"std\"],\n",
    "                                         \"num_examples_family\": \"count\"}).reset_index()\n",
    "\n",
    "new_cols = [\"Family\", \"Age Class\", \"Height_mean\", \"Height_std\", \"Diameter_mean\", \"Diameter_std\", \"num\"]\n",
    "dfg.columns = new_cols"
   ]
  },
  {
   "cell_type": "code",
   "execution_count": 37,
   "metadata": {},
   "outputs": [],
   "source": [
    "DF = pd.merge(df, dfg, on=[\"Family\", \"Age Class\"])"
   ]
  },
  {
   "cell_type": "markdown",
   "metadata": {},
   "source": [
    "## Hand pick 3 families for the data set"
   ]
  },
  {
   "cell_type": "code",
   "execution_count": 38,
   "metadata": {},
   "outputs": [
    {
     "name": "stdout",
     "output_type": "stream",
     "text": [
      "Original data set size:\n",
      "Sorbus      283\n",
      "Populus     200\n",
      "Sambucus    124\n",
      "Name: Family, dtype: int64\n"
     ]
    }
   ],
   "source": [
    "# Tweak a bit the ages so that the families are somehow separable\n",
    "chosen_pars = {\n",
    "    \"Sambucus\": [\"Early\", \"Early Mature\", \"Semi-Mature\", \"Mature\"],\n",
    "    \"Sorbus\": [\"Mature\"],\n",
    "    \"Populus\": [\"Mature\", \"Over-Mature\"]\n",
    "}\n",
    "\n",
    "# Remove data points that are very far from the mean to not have crazy outliers\n",
    "thr = 2\n",
    "dffil = DF[(np.abs(DF.Height-DF.Height_mean)<=thr*DF.Height_std) & (np.abs(DF.Diameter-DF.Diameter_mean)<=thr*DF.Diameter_std)]\n",
    "\n",
    "# Pick the data from the filtered data frame\n",
    "dfs = []\n",
    "for (fam, ages) in chosen_pars.items():\n",
    "    dfsel = dffil[(dffil.Family==fam) & (dffil[\"Age Class\"].isin(ages))]\n",
    "    dfs.append(dfsel)\n",
    "dfs = pd.concat(dfs)\n",
    "\n",
    "print(\"Original data set size:\")\n",
    "print(dfs.Family.value_counts())\n",
    "\n",
    "# Upsample the 3 families to have 600 data points on each\n",
    "g = dfs.groupby([\"Family\"], group_keys=False)\n",
    "dfs = pd.DataFrame(g.apply(lambda x: x.sample(600, replace=True).reset_index(drop=True)))"
   ]
  },
  {
   "cell_type": "code",
   "execution_count": 39,
   "metadata": {},
   "outputs": [],
   "source": [
    "# Plotting util function\n",
    "def plot_data(data):\n",
    "    cols = [\"tab:red\", \"tab:blue\", \"tab:green\"]\n",
    "    dict_cols_fam = {k: v for (k, v) in zip(dfs.Family.unique(), cols)}\n",
    "\n",
    "    fig, ax = plt.subplots()\n",
    "    grouped_fam = data.groupby('Family')\n",
    "    for key, group in grouped_fam:\n",
    "        group.plot(ax=ax, kind='scatter', x='Height', y='Diameter', figsize=(8,5), label=key, color=dict_cols_fam[key])\n",
    "    plt.show()\n"
   ]
  },
  {
   "cell_type": "code",
   "execution_count": 40,
   "metadata": {},
   "outputs": [
    {
     "data": {
      "image/png": "[encoded data removed]",
      "text/plain": [
       "<Figure size 576x360 with 1 Axes>"
      ]
     },
     "metadata": {
      "needs_background": "light"
     },
     "output_type": "display_data"
    }
   ],
   "source": [
    "# Perturb Height and Diameter to get a more \"random\" data set\n",
    "# Do it twice because it looks nicer\n",
    "sigma_height = 0.6\n",
    "sigma_diameter = 0.03\n",
    "dfs[\"Height\"] = dfs[\"Height\"].apply(lambda row: row + np.random.normal(0, sigma_height))\n",
    "dfs[\"Height\"] = dfs[\"Height\"].apply(lambda row: row + np.random.normal(0, sigma_height))\n",
    "\n",
    "dfs[\"Diameter\"] = dfs[\"Diameter\"].apply(lambda row: row + np.random.normal(0, sigma_diameter))\n",
    "dfs[\"Diameter\"] = dfs[\"Diameter\"].apply(lambda row: row + np.random.normal(0, sigma_diameter))\n",
    "\n",
    "# Plot how it's looking like\n",
    "plot_data(dfs)"
   ]
  },
  {
   "cell_type": "markdown",
   "metadata": {},
   "source": [
    "## Create mini data sets for display"
   ]
  },
  {
   "cell_type": "code",
   "execution_count": 41,
   "metadata": {},
   "outputs": [],
   "source": [
    "cols_to_keep = ['Height', 'Diameter', 'Family']\n",
    "\n",
    "def create_mini_set(data, sample_size):\n",
    "    g = data.groupby([\"Family\"], group_keys=False)\n",
    "    outdata = pd.DataFrame(g.apply(lambda x: x.sample(50, replace=True).reset_index(drop=True)))\n",
    "    outdata = outdata[cols_to_keep]\n",
    "    return outdata"
   ]
  },
  {
   "cell_type": "code",
   "execution_count": 42,
   "metadata": {},
   "outputs": [
    {
     "data": {
      "image/png": "[encoded data removed]",
      "text/plain": [
       "<Figure size 576x360 with 1 Axes>"
      ]
     },
     "metadata": {
      "needs_background": "light"
     },
     "output_type": "display_data"
    }
   ],
   "source": [
    "# One can create many different data sets with 30 points per family each. \n",
    "# We should probably set up a fixed random seed at some point\n",
    "dfm = create_mini_set(dfs, 30)\n",
    "plot_data(dfm)"
   ]
  },
  {
   "cell_type": "markdown",
   "metadata": {},
   "source": [
    "## Save mini data to json"
   ]
  },
  {
   "cell_type": "code",
   "execution_count": 43,
   "metadata": {},
   "outputs": [],
   "source": [
    "dfm.to_json('dfm.json', orient='records')"
   ]
  },
  {
   "cell_type": "markdown",
   "metadata": {},
   "source": [
    "## Fit the decision tree"
   ]
  },
  {
   "cell_type": "code",
   "execution_count": 44,
   "metadata": {},
   "outputs": [],
   "source": [
    "features = [\"Height\", \"Diameter\"]\n",
    "x = dfs[features]\n",
    "y = dfs[\"Family\"]"
   ]
  },
  {
   "cell_type": "code",
   "execution_count": 92,
   "metadata": {},
   "outputs": [
    {
     "name": "stdout",
     "output_type": "stream",
     "text": [
      "0.8044444444444444 {'max_depth': 3}\n"
     ]
    }
   ],
   "source": [
    "parameters = {'max_depth': range(3,4)}\n",
    "clf = GridSearchCV(tree.DecisionTreeClassifier(criterion=\"entropy\"), parameters, n_jobs=4)\n",
    "clf.fit(X=x, y=y)\n",
    "tree_model = clf.best_estimator_\n",
    "print (clf.best_score_, clf.best_params_) "
   ]
  },
  {
   "cell_type": "code",
   "execution_count": 93,
   "metadata": {},
   "outputs": [
    {
     "name": "stdout",
     "output_type": "stream",
     "text": [
      "('|--- feature_1 <= 0.49\\n'\n",
      " '|   |--- feature_0 <= 4.55\\n'\n",
      " '|   |   |--- feature_1 <= 0.26\\n'\n",
      " '|   |   |   |--- class: Sambucus\\n'\n",
      " '|   |   |--- feature_1 >  0.26\\n'\n",
      " '|   |   |   |--- class: Sambucus\\n'\n",
      " '|   |--- feature_0 >  4.55\\n'\n",
      " '|   |   |--- feature_1 <= 0.39\\n'\n",
      " '|   |   |   |--- class: Sorbus\\n'\n",
      " '|   |   |--- feature_1 >  0.39\\n'\n",
      " '|   |   |   |--- class: Sorbus\\n'\n",
      " '|--- feature_1 >  0.49\\n'\n",
      " '|   |--- feature_1 <= 0.57\\n'\n",
      " '|   |   |--- feature_0 <= 4.61\\n'\n",
      " '|   |   |   |--- class: Populus\\n'\n",
      " '|   |   |--- feature_0 >  4.61\\n'\n",
      " '|   |   |   |--- class: Populus\\n'\n",
      " '|   |--- feature_1 >  0.57\\n'\n",
      " '|   |   |--- feature_1 <= 0.58\\n'\n",
      " '|   |   |   |--- class: Populus\\n'\n",
      " '|   |   |--- feature_1 >  0.58\\n'\n",
      " '|   |   |   |--- class: Populus\\n')\n"
     ]
    }
   ],
   "source": [
    "pprint.pprint(export_text(tree_model))"
   ]
  },
  {
   "cell_type": "code",
   "execution_count": 94,
   "metadata": {},
   "outputs": [
    {
     "data": {
      "text/plain": [
       "array([0.28920377, 0.71079623])"
      ]
     },
     "execution_count": 94,
     "metadata": {},
     "output_type": "execute_result"
    }
   ],
   "source": [
    "tree_model.feature_importances_"
   ]
  },
  {
   "cell_type": "code",
   "execution_count": 95,
   "metadata": {},
   "outputs": [
    {
     "data": {
      "text/plain": [
       "<BarContainer object of 2 artists>"
      ]
     },
     "execution_count": 95,
     "metadata": {},
     "output_type": "execute_result"
    },
    {
     "data": {
      "image/png": "[encoded data removed]",
      "text/plain": [
       "<Figure size 432x288 with 1 Axes>"
      ]
     },
     "metadata": {
      "needs_background": "light"
     },
     "output_type": "display_data"
    }
   ],
   "source": [
    "plt.barh(features, tree_model.feature_importances_)"
   ]
  },
  {
   "cell_type": "markdown",
   "metadata": {},
   "source": [
    "## Export tree data for Explainer"
   ]
  },
  {
   "cell_type": "code",
   "execution_count": 96,
   "metadata": {},
   "outputs": [],
   "source": [
    "def export_dict(decision_tree, feature_names=None):\n",
    "    js = {}\n",
    "    def node2str(tree, node_id, criterion):\n",
    "        if not isinstance(criterion, six.string_types):\n",
    "            criterion = \"impurity\"\n",
    "        value = tree.tree_.value[node_id]\n",
    "        if tree.tree_.n_outputs == 1:\n",
    "            value = value[0, :]\n",
    "        if tree.tree_.children_left[node_id] == sklearn.tree._tree.TREE_LEAF:\n",
    "            # if terminal leafe node\n",
    "            return {\"id\": str(node_id),\n",
    "                    \"impurity\": str(tree.tree_.impurity[node_id]),\n",
    "                    \"samples\": str(tree.tree_.n_node_samples[node_id]),\n",
    "                    \"value\": str(value),\n",
    "                    \"majority_class\":  str(value.argmax(axis=0)),\n",
    "                    \"leaf_node\": 1\n",
    "                   } \n",
    "        else:\n",
    "            if feature_names is not None:\n",
    "                feature = feature_names[tree.tree_.feature[node_id]]\n",
    "            else:\n",
    "                feature = tree.tree_.feature[node_id]\n",
    "            return {\"id\": str(node_id),\n",
    "                    'children':[],\n",
    "                     \"value\": str(value),\n",
    "                    \"majority_class\":  str(value.argmax(axis=0)),\n",
    "                    \"split_rule\": f\"{feature} <= {np.round(tree.tree_.threshold[node_id],2)}\",\n",
    "                    \"feature\": feature,\n",
    "                    \"threshold\": np.round(tree.tree_.threshold[node_id], 2),\n",
    "                    criterion: str(tree.tree_.impurity[node_id]),\n",
    "                    \"samples\": str(tree.tree_.n_node_samples[node_id]),\n",
    "                    \"leaf_node\": 0\n",
    "                   } \n",
    "    def recurse(tree, node_id, criterion, parent=None):\n",
    "        left_child = tree.tree_.children_left[node_id]\n",
    "        right_child = tree.tree_.children_right[node_id]\n",
    "        js = node2str(tree, node_id, criterion)\n",
    "        # if not end node, append left and right to children\n",
    "        if left_child != sklearn.tree._tree.TREE_LEAF: \n",
    "            js['children'].append(recurse(tree, left_child, criterion=criterion, parent=node_id))\n",
    "            js['children'].append(recurse(tree, right_child,criterion=criterion,parent=node_id))\n",
    "        return js\n",
    "    if isinstance(decision_tree, sklearn.tree.DecisionTreeClassifier):\n",
    "        js = recurse(decision_tree, 0, criterion=\"impurity\")\n",
    "    else:\n",
    "        js = recurse(decision_tree.tree_, 0, criterion=decision_tree.criterion)\n",
    "    return js"
   ]
  },
  {
   "cell_type": "code",
   "execution_count": 97,
   "metadata": {},
   "outputs": [
    {
     "data": {
      "text/plain": [
       "{'id': '0',\n",
       " 'children': [{'id': '1',\n",
       "   'children': [{'id': '2',\n",
       "     'children': [{'id': '3',\n",
       "       'impurity': '0.37916366144637115',\n",
       "       'samples': '373',\n",
       "       'value': '[  8. 351.  14.]',\n",
       "       'majority_class': '1',\n",
       "       'leaf_node': 1},\n",
       "      {'id': '4',\n",
       "       'impurity': '1.2909692003328508',\n",
       "       'samples': '136',\n",
       "       'value': '[35. 85. 16.]',\n",
       "       'majority_class': '1',\n",
       "       'leaf_node': 1}],\n",
       "     'value': '[ 43. 436.  30.]',\n",
       "     'majority_class': '1',\n",
       "     'split_rule': 'Diameter <= 0.26',\n",
       "     'feature': 'Diameter',\n",
       "     'threshold': 0.26,\n",
       "     'impurity': '0.7332419483877077',\n",
       "     'samples': '509',\n",
       "     'leaf_node': 0},\n",
       "    {'id': '5',\n",
       "     'children': [{'id': '6',\n",
       "       'impurity': '0.9938543045606979',\n",
       "       'samples': '563',\n",
       "       'value': '[ 15. 147. 401.]',\n",
       "       'majority_class': '2',\n",
       "       'leaf_node': 1},\n",
       "      {'id': '7',\n",
       "       'impurity': '1.1615305259981106',\n",
       "       'samples': '193',\n",
       "       'value': '[ 43.  17. 133.]',\n",
       "       'majority_class': '2',\n",
       "       'leaf_node': 1}],\n",
       "     'value': '[ 58. 164. 534.]',\n",
       "     'majority_class': '2',\n",
       "     'split_rule': 'Diameter <= 0.39',\n",
       "     'feature': 'Diameter',\n",
       "     'threshold': 0.39,\n",
       "     'impurity': '1.1167225115280583',\n",
       "     'samples': '756',\n",
       "     'leaf_node': 0}],\n",
       "   'value': '[101. 600. 564.]',\n",
       "   'majority_class': '1',\n",
       "   'split_rule': 'Height <= 4.55',\n",
       "   'feature': 'Height',\n",
       "   'threshold': 4.55,\n",
       "   'impurity': '1.321144960642242',\n",
       "   'samples': '1265',\n",
       "   'leaf_node': 0},\n",
       "  {'id': '8',\n",
       "   'children': [{'id': '9',\n",
       "     'children': [{'id': '10',\n",
       "       'impurity': '0.0',\n",
       "       'samples': '46',\n",
       "       'value': '[46.  0.  0.]',\n",
       "       'majority_class': '0',\n",
       "       'leaf_node': 1},\n",
       "      {'id': '11',\n",
       "       'impurity': '0.9906174973781801',\n",
       "       'samples': '79',\n",
       "       'value': '[44.  0. 35.]',\n",
       "       'majority_class': '0',\n",
       "       'leaf_node': 1}],\n",
       "     'value': '[90.  0. 35.]',\n",
       "     'majority_class': '0',\n",
       "     'split_rule': 'Height <= 4.61',\n",
       "     'feature': 'Height',\n",
       "     'threshold': 4.61,\n",
       "     'impurity': '0.8554508105601307',\n",
       "     'samples': '125',\n",
       "     'leaf_node': 0},\n",
       "    {'id': '12',\n",
       "     'children': [{'id': '13',\n",
       "       'impurity': '0.28639695711595625',\n",
       "       'samples': '20',\n",
       "       'value': '[19.  0.  1.]',\n",
       "       'majority_class': '0',\n",
       "       'leaf_node': 1},\n",
       "      {'id': '14',\n",
       "       'impurity': '0.0',\n",
       "       'samples': '390',\n",
       "       'value': '[390.   0.   0.]',\n",
       "       'majority_class': '0',\n",
       "       'leaf_node': 1}],\n",
       "     'value': '[409.   0.   1.]',\n",
       "     'majority_class': '0',\n",
       "     'split_rule': 'Diameter <= 0.58',\n",
       "     'feature': 'Diameter',\n",
       "     'threshold': 0.58,\n",
       "     'impurity': '0.02468393737575027',\n",
       "     'samples': '410',\n",
       "     'leaf_node': 0}],\n",
       "   'value': '[499.   0.  36.]',\n",
       "   'majority_class': '0',\n",
       "   'split_rule': 'Diameter <= 0.57',\n",
       "   'feature': 'Diameter',\n",
       "   'threshold': 0.57,\n",
       "   'impurity': '0.35572703135352574',\n",
       "   'samples': '535',\n",
       "   'leaf_node': 0}],\n",
       " 'value': '[600. 600. 600.]',\n",
       " 'majority_class': '0',\n",
       " 'split_rule': 'Diameter <= 0.49',\n",
       " 'feature': 'Diameter',\n",
       " 'threshold': 0.49,\n",
       " 'impurity': '1.584962500721156',\n",
       " 'samples': '1800',\n",
       " 'leaf_node': 0}"
      ]
     },
     "execution_count": 97,
     "metadata": {},
     "output_type": "execute_result"
    }
   ],
   "source": [
    "tt = export_dict(tree_model, features)\n",
    "tt"
   ]
  },
  {
   "cell_type": "code",
   "execution_count": 98,
   "metadata": {},
   "outputs": [],
   "source": [
    "jsonfile_name = 'treedata2.json'\n",
    "with open(jsonfile_name, 'w') as f:\n",
    "    json.dump(tt, f)"
   ]
  },
  {
   "cell_type": "code",
   "execution_count": null,
   "metadata": {},
   "outputs": [],
   "source": []
  }
 ],
 "metadata": {
  "kernelspec": {
   "display_name": "Python 3",
   "language": "python",
   "name": "python3"
  },
  "language_info": {
   "codemirror_mode": {
    "name": "ipython",
    "version": 3
   },
   "file_extension": ".py",
   "mimetype": "text/x-python",
   "name": "python",
   "nbconvert_exporter": "python",
   "pygments_lexer": "ipython3",
   "version": "3.8.5"
  }
 },
 "nbformat": 4,
 "nbformat_minor": 4
}
